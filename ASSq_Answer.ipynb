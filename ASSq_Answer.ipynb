{
 "cells": [
  {
   "cell_type": "markdown",
   "id": "8b81971c",
   "metadata": {},
   "source": [
    "Ql: Explain the following with an example:\n",
    "1.\tArtificial Intelligence\n",
    "2.\tMachine Learning\n",
    "3.\tDeep Learning\n",
    "\n",
    "Artificial intelligence leverages computers and machines to mimic the problem-solving and decision-making capabilities of the human mind.Eg: Virtual assistants\n",
    "\n",
    "\n",
    "Machine learning is a branch of artificial intelligence (AI) and computer science which focuses on the use of data and algorithms to imitate the way that humans learn, gradually improving its accuracy. Eg: Recommendation engines\n",
    "\n",
    "Deep learning is a branch of machine learning that is made up of a neural network with three or more layers: Eg: ChatbotsChatbots\n",
    "\n",
    "Input layer: Data enters through the input layer.\n",
    "\n",
    "Hidden layers: Hidden layers process and transport data to other layers.\n",
    "\n",
    "Output layer: The final result or prediction is made in the output layer.\n",
    "\n",
    "\n"
   ]
  },
  {
   "cell_type": "markdown",
   "id": "4007626f",
   "metadata": {},
   "source": [
    "Q2:\tWhat is supervised learning? List some examples of supervised learning.\n",
    "\n",
    "It is defined by its use of labeled datasets to train algorithms that to classify data or predict outcomes accurately. \n",
    "\n",
    "Eg:predicting house prices,predictions for the weather."
   ]
  },
  {
   "cell_type": "markdown",
   "id": "2cb5faae",
   "metadata": {},
   "source": [
    "Q3:\tWhat is unsupervised learning? List some examples of unsupervised learning.\n",
    "\n",
    "unsupervised learning uses unlabeled data. From that data, it discovers patterns that help solve for clustering or association problems. \n",
    "\n",
    "Eg:Finding customer segments"
   ]
  },
  {
   "cell_type": "markdown",
   "id": "3e089b4c",
   "metadata": {},
   "source": [
    "Q4:\tWhat is the difference between Al, ML, DL, and DS?\n",
    "\n",
    "Artificial Intelligence is to make computers, to simulate the kind of things that humans can do (like playing chess or driving a car and many more), be able to solve such problems in ultimately better and faster way than people can do it.\n",
    "\n",
    "Machine Learning is to make computers programmed at some given task, which is expected to learn from its environment and improve its performance over time.\n",
    "\n",
    "Deep learning is a branch of machine learning that is made up of a neural network with three or more layers\n",
    "\n",
    "Data Science has some overlap with Artificial Intelligence, Machine Learning, and very few parts of Deep Learning."
   ]
  },
  {
   "cell_type": "markdown",
   "id": "c6605a2b",
   "metadata": {},
   "source": [
    "Q5:\tWhat are the main differences between supervised, unsupervised, and semi-supervised learning?\n",
    "\n",
    "Supervised learning is a problem with labeled data, expecting to develop predictive capability. Unsupervised learning is discovering process, diving into unlabeled data to capture hidden information. Semi-supervised learning is a blend of supervised and unsupervised learning."
   ]
  },
  {
   "cell_type": "markdown",
   "id": "b541f32e",
   "metadata": {},
   "source": [
    "Q6:\tWhat is train, test and validation split? Explain the importance of each term.\n",
    "\n",
    "Training Set: For training of the model. \n",
    "\n",
    "Validation Set: For unbiased evaluation of the model. \n",
    "\n",
    "Test Set: For final evaluation of the model."
   ]
  },
  {
   "cell_type": "markdown",
   "id": "c3e76728",
   "metadata": {},
   "source": [
    "Q7:\tHow can unsupervised learning be used in anomaly detection?\n",
    "    \n",
    "    Anomaly detection techniques of unsupervised nature assume that normal data points occur considerably more frequently than anomalous data points. This assumption is used to classify data points that occur less frequently as anomalies. Unsupervised techniques assign each data point a score instead of a label."
   ]
  },
  {
   "cell_type": "markdown",
   "id": "4fea566f",
   "metadata": {},
   "source": [
    "Q8:\tList down some commonly used supervised learning algorithms and unsupervised learning algorithms.\n",
    "\n",
    "The most commonly used Supervised Learning algorithms are decision tree, logistic regression, linear regression, support vector machine.\n",
    "\n",
    "The most commonly used Unsupervised Learning algorithms are k-means clustering, hierarchical clustering, and apriori algorithm"
   ]
  }
 ],
 "metadata": {
  "kernelspec": {
   "display_name": "Python 3 (ipykernel)",
   "language": "python",
   "name": "python3"
  },
  "language_info": {
   "codemirror_mode": {
    "name": "ipython",
    "version": 3
   },
   "file_extension": ".py",
   "mimetype": "text/x-python",
   "name": "python",
   "nbconvert_exporter": "python",
   "pygments_lexer": "ipython3",
   "version": "3.11.5"
  }
 },
 "nbformat": 4,
 "nbformat_minor": 5
}
