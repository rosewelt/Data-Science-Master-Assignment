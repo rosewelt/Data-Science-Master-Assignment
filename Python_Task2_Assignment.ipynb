{
 "cells": [
  {
   "cell_type": "markdown",
   "id": "d631250b",
   "metadata": {},
   "source": [
    "Q1. You are writing code for a company. The requirement of the company is that you create a python\n",
    "function that will check whether the password entered by the user is correct or not. The function should\n",
    "take the password as input and return the string “Valid Password” if the entered password follows the\n",
    "below-given password guidelines else it should return “Invalid Password”.\n",
    "\n",
    "\n",
    "\n",
    "Note: \n",
    "1. The Password should contain at least two uppercase letters and at least two lowercase letters.\n",
    "2. The Password should contain at least a number and three special characters.\n",
    "3. The length of the password should be 10 characters long."
   ]
  },
  {
   "cell_type": "code",
   "execution_count": 11,
   "id": "41ab3d46",
   "metadata": {},
   "outputs": [],
   "source": [
    "def passwordcheck(input):\n",
    "    d = {\"upper_case\":0,\"lower_case\":0,\"Special_case\":0}\n",
    "    for i in input:\n",
    "        if i.isupper():\n",
    "            d[\"upper_case\"] += 1\n",
    "        if i.islower():\n",
    "            d[\"lower_case\"] += 1\n",
    "        if i.isalpha() == True or i.isnumeric() == True:\n",
    "            pass\n",
    "        else:\n",
    "            d[\"Special_case\"] += 1\n",
    "    if len(input) >= 10 and d[\"upper_case\"]>=2 and d[\"lower_case\"]>=2 and d[\"Special_case\"] >=3:\n",
    "        return 'Valid Password'\n",
    "    else:\n",
    "        return \"InValid Password\"\n",
    "\n",
    "        \n",
    "            \n",
    "    "
   ]
  },
  {
   "cell_type": "code",
   "execution_count": 15,
   "id": "d22615b7",
   "metadata": {},
   "outputs": [
    {
     "name": "stdout",
     "output_type": "stream",
     "text": [
      "QW1234#@$rt\n"
     ]
    },
    {
     "data": {
      "text/plain": [
       "'Valid Password'"
      ]
     },
     "execution_count": 15,
     "metadata": {},
     "output_type": "execute_result"
    }
   ],
   "source": [
    "password = input()\n",
    "passwordcheck(password)\n"
   ]
  },
  {
   "cell_type": "markdown",
   "id": "57602eac",
   "metadata": {},
   "source": [
    "Q2. Solve the below-given questions using at least one of the following:\n",
    "1. Lambda function\n",
    "2. Filter function\n",
    "3. Map function\n",
    "4. List Comprehension\n"
   ]
  },
  {
   "cell_type": "markdown",
   "id": "af20dfe3",
   "metadata": {},
   "source": [
    "Check if the string starts with a particular letter"
   ]
  },
  {
   "cell_type": "code",
   "execution_count": 56,
   "id": "6ff2412b",
   "metadata": {},
   "outputs": [
    {
     "data": {
      "text/plain": [
       "'Starts with A'"
      ]
     },
     "execution_count": 56,
     "metadata": {},
     "output_type": "execute_result"
    }
   ],
   "source": [
    "a = lambda x: \"Starts with A\" if x.startswith('a') == True else \"no\"\n",
    "a(\"apple\")"
   ]
  },
  {
   "cell_type": "markdown",
   "id": "ec908bb7",
   "metadata": {},
   "source": [
    "Check if the string is numeric"
   ]
  },
  {
   "cell_type": "code",
   "execution_count": 51,
   "id": "ac8a8474",
   "metadata": {},
   "outputs": [
    {
     "name": "stdout",
     "output_type": "stream",
     "text": [
      "Enter the number12\n"
     ]
    },
    {
     "data": {
      "text/plain": [
       "'numeric'"
      ]
     },
     "execution_count": 51,
     "metadata": {},
     "output_type": "execute_result"
    }
   ],
   "source": [
    "number = input(\"Enter the number\")\n",
    "a = lambda x : \"numeric\" if x.isnumeric() == True else \"Not Numeric\"\n",
    "a(number)"
   ]
  },
  {
   "cell_type": "code",
   "execution_count": 12,
   "id": "6d0fe904",
   "metadata": {},
   "outputs": [
    {
     "name": "stdout",
     "output_type": "stream",
     "text": [
      "Sorting by fruit names:  [('grapes', 1000), ('mango', 99), ('orange', 80)]\n",
      "Sorting by number:  [('orange', 80), ('mango', 99), ('grapes', 1000)]\n"
     ]
    }
   ],
   "source": [
    "l1 = [(\"mango\",99),(\"orange\",80), (\"grapes\", 1000)]\n",
    "x = sorted(l1)\n",
    "print(\"Sorting by fruit names: \", x)\n",
    "y = sorted(l1, key = lambda x : x[1])\n",
    "print(\"Sorting by number: \", y)"
   ]
  },
  {
   "cell_type": "markdown",
   "id": "1c839441",
   "metadata": {},
   "source": [
    "Find the squares of numbers from 1 to 10"
   ]
  },
  {
   "cell_type": "code",
   "execution_count": 24,
   "id": "1d6783ec",
   "metadata": {},
   "outputs": [
    {
     "data": {
      "text/plain": [
       "[1, 8, 27, 64, 125, 216, 343, 512, 729, 1000]"
      ]
     },
     "execution_count": 24,
     "metadata": {},
     "output_type": "execute_result"
    }
   ],
   "source": [
    "list(map(lambda x : x**2, range(1,11)))"
   ]
  },
  {
   "cell_type": "markdown",
   "id": "9d864158",
   "metadata": {},
   "source": [
    "Find the cube root of numbers from 1 to 10"
   ]
  },
  {
   "cell_type": "code",
   "execution_count": 27,
   "id": "4037fd07",
   "metadata": {},
   "outputs": [
    {
     "data": {
      "text/plain": [
       "[1, 8, 27, 64, 125, 216, 343, 512, 729, 1000]"
      ]
     },
     "execution_count": 27,
     "metadata": {},
     "output_type": "execute_result"
    }
   ],
   "source": [
    "list(map(lambda x : x**3, range(1,11)))"
   ]
  },
  {
   "cell_type": "markdown",
   "id": "4af5a3e5",
   "metadata": {},
   "source": [
    "Check if a given number is even"
   ]
  },
  {
   "cell_type": "code",
   "execution_count": 33,
   "id": "f203297d",
   "metadata": {},
   "outputs": [
    {
     "name": "stdout",
     "output_type": "stream",
     "text": [
      "Enter the number11\n"
     ]
    },
    {
     "data": {
      "text/plain": [
       "'The number is odd'"
      ]
     },
     "execution_count": 33,
     "metadata": {},
     "output_type": "execute_result"
    }
   ],
   "source": [
    "number = int(input(\"Enter the number\"))\n",
    "a = lambda x : \"The number is even\" if x%2 == 0 else \"The number is odd\"\n",
    "a(number)"
   ]
  },
  {
   "cell_type": "markdown",
   "id": "9bb8c453",
   "metadata": {},
   "source": [
    "Filter odd numbers from the given list\n",
    "\n",
    "[1,2,3,4,5,6,7,8,9,10]"
   ]
  },
  {
   "cell_type": "code",
   "execution_count": 37,
   "id": "f13b34f1",
   "metadata": {},
   "outputs": [
    {
     "data": {
      "text/plain": [
       "[1, 3, 5, 7, 9]"
      ]
     },
     "execution_count": 37,
     "metadata": {},
     "output_type": "execute_result"
    }
   ],
   "source": [
    "lst = [1,2,3,4,5,6,7,8,9,10]\n",
    "list(filter(lambda x : x%2 != 0, lst))"
   ]
  },
  {
   "cell_type": "markdown",
   "id": "66fdacd6",
   "metadata": {},
   "source": [
    "Sort a list of integers into positive and negative integers lists.\n",
    "\n",
    "[1,2,3,4,5,6,-1,-2,-3,-4,-5,0]"
   ]
  },
  {
   "cell_type": "code",
   "execution_count": 43,
   "id": "b0f736e5",
   "metadata": {},
   "outputs": [
    {
     "name": "stdout",
     "output_type": "stream",
     "text": [
      "[1, 2, 3, 4, 5, 6]\n",
      "[-1, -2, -3, -4, -5]\n"
     ]
    }
   ],
   "source": [
    "lst1 = [1,2,3,4,5,6,-1,-2,-3,-4,-5,0]\n",
    "pos_lst= list(filter(lambda x : x > 0, lst1))\n",
    "neg_lst= list(filter(lambda x : x < 0, lst1))\n",
    "print(pos_lst)\n",
    "print(neg_lst)"
   ]
  },
  {
   "cell_type": "code",
   "execution_count": null,
   "id": "a4548c97",
   "metadata": {},
   "outputs": [],
   "source": []
  }
 ],
 "metadata": {
  "kernelspec": {
   "display_name": "Python 3 (ipykernel)",
   "language": "python",
   "name": "python3"
  },
  "language_info": {
   "codemirror_mode": {
    "name": "ipython",
    "version": 3
   },
   "file_extension": ".py",
   "mimetype": "text/x-python",
   "name": "python",
   "nbconvert_exporter": "python",
   "pygments_lexer": "ipython3",
   "version": "3.11.5"
  }
 },
 "nbformat": 4,
 "nbformat_minor": 5
}
