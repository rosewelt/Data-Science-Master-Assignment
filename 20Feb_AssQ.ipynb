{
 "cells": [
  {
   "cell_type": "markdown",
   "id": "89428941-6829-4f81-b252-eff8cdea6eb7",
   "metadata": {},
   "source": [
    "Q1. Explain GET and POST methods.\n",
    "\n",
    "Both GET and POST method is used to transfer data from client to server in HTTP protocol but Main difference between POST and GET method is that GET carries request parameter appended in URL string while POST carries request parameter in message body which makes it more secure way of transferring data from client"
   ]
  },
  {
   "cell_type": "markdown",
   "id": "bf31be01-3243-41ec-ab7d-ee5bf37a3921",
   "metadata": {},
   "source": [
    "Q2. Why is request used in Flask?\n",
    "\n",
    "The Request, in Flask, is an object that contains all the data sent from the Client to Server."
   ]
  },
  {
   "cell_type": "markdown",
   "id": "628dd23f-b73c-47e7-9ffb-1602f7b4ec3b",
   "metadata": {},
   "source": [
    "Q3. Why is redirect() used in Flask?\n",
    "\n",
    "Flask redirect is defined as a function or utility in Flask which allows developers to redirect users to a specified URL and assign a specified status code."
   ]
  },
  {
   "cell_type": "markdown",
   "id": "6fdece19-9ae5-4b99-ac11-237648286aca",
   "metadata": {},
   "source": [
    "Q4. What are templates in Flask? Why is the render_template() function used?\n",
    "\n",
    "What is Flask templates?\n",
    "Templates are files that contain static data as well as placeholders for dynamic data. A template is rendered with specific data to produce a final document. Flask uses the Jinja template library to render templates.\n",
    "\n",
    "render_template is a Flask function from the flask. templating package. render_template is used to generate output from a template file based on the Jinja2 engine that is found in the application's templates folde"
   ]
  },
  {
   "cell_type": "markdown",
   "id": "efc02e7e-368d-41b4-88f2-6a41f07aec47",
   "metadata": {},
   "source": [
    "Q5. Create a simple API. Use Postman to test it. Attach the screenshot of the output in the Jupyter Notebook.\n"
   ]
  }
 ],
 "metadata": {
  "kernelspec": {
   "display_name": "Python 3 (ipykernel)",
   "language": "python",
   "name": "python3"
  },
  "language_info": {
   "codemirror_mode": {
    "name": "ipython",
    "version": 3
   },
   "file_extension": ".py",
   "mimetype": "text/x-python",
   "name": "python",
   "nbconvert_exporter": "python",
   "pygments_lexer": "ipython3",
   "version": "3.10.8"
  }
 },
 "nbformat": 4,
 "nbformat_minor": 5
}
