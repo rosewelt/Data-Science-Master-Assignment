{
 "cells": [
  {
   "cell_type": "markdown",
   "id": "dd680f51-7d2c-4d4f-8149-338bf893da88",
   "metadata": {},
   "source": [
    "Q1. Explain Class and Object with respect to Object-Oriented Programming. Give a suitable example.\n",
    "        \n",
    "    Classes are user-defined data types that act as the blueprint for individual objects, attributes and methods. Objects are instances of a class created with specifically defined data.\n",
    "    "
   ]
  },
  {
   "cell_type": "code",
   "execution_count": 5,
   "id": "fb7ab833-e094-4440-9169-8b398bb8ddd5",
   "metadata": {},
   "outputs": [],
   "source": [
    "# example class\n",
    "class demo_class:\n",
    "    def __init__(self,x):\n",
    "        self.name=x\n",
    "        \n",
    "    def myname(self):\n",
    "        return self.name      \n",
    "\n"
   ]
  },
  {
   "cell_type": "code",
   "execution_count": 7,
   "id": "a4b5af9f-70b5-44ed-932f-0a32c879be64",
   "metadata": {},
   "outputs": [],
   "source": [
    "pranav= demo_class(\"Pranav\")"
   ]
  },
  {
   "cell_type": "code",
   "execution_count": 8,
   "id": "dc7dc206-f85a-4c83-a9b3-a72ea5d99680",
   "metadata": {},
   "outputs": [
    {
     "data": {
      "text/plain": [
       "'Pranav'"
      ]
     },
     "execution_count": 8,
     "metadata": {},
     "output_type": "execute_result"
    }
   ],
   "source": [
    "pranav.name\n"
   ]
  },
  {
   "cell_type": "code",
   "execution_count": 9,
   "id": "cf7c2b58-8a34-478e-8a91-cdf47a2f8899",
   "metadata": {},
   "outputs": [
    {
     "data": {
      "text/plain": [
       "'Pranav'"
      ]
     },
     "execution_count": 9,
     "metadata": {},
     "output_type": "execute_result"
    }
   ],
   "source": [
    "pranav.myname()"
   ]
  },
  {
   "cell_type": "markdown",
   "id": "401a5e1f-fff5-4f3a-be9f-751881eb7f4b",
   "metadata": {},
   "source": [
    "Q2. Name the four pillars of OOPs.\n",
    "\n",
    "    * Abstraction\n",
    "    * Encapsulation\n",
    "    * Inheritance\n",
    "    * Polymorphism"
   ]
  },
  {
   "cell_type": "markdown",
   "id": "e0247a6a-c44d-4ac5-b57b-bef55b11ede7",
   "metadata": {},
   "source": [
    "Q3. Explain why the __init__() function is used. Give a suitable example.\n",
    "\n",
    "    The __init__ method lets the class initialize the object's attributes "
   ]
  },
  {
   "cell_type": "code",
   "execution_count": 10,
   "id": "9909549d-f3c8-42a8-b108-ac243e852009",
   "metadata": {},
   "outputs": [],
   "source": [
    "class demo_class:\n",
    "    def __init__(self,x):\n",
    "        self.name=x"
   ]
  },
  {
   "cell_type": "markdown",
   "id": "61b32f90-6113-45c0-a8d9-bb4d6ed6e239",
   "metadata": {},
   "source": [
    "Q4. Why self is used in OOPs?\n",
    "    \n",
    "    self is used to represent the current class in which it is residing"
   ]
  },
  {
   "cell_type": "markdown",
   "id": "d9ed2ba2-8a35-463e-a49e-f6b7cdd2e4dd",
   "metadata": {},
   "source": [
    "Q5. What is inheritance? Give an example for each type of inheritance.\n",
    "\n",
    "    Inheritance allows us to define a class that inherits all the methods and properties from another class."
   ]
  },
  {
   "cell_type": "code",
   "execution_count": 13,
   "id": "1fb5da63-9b73-4c93-a41b-5a33f4701673",
   "metadata": {},
   "outputs": [],
   "source": [
    "# Example Single inheritance\n",
    "class base:\n",
    "    def method1(self):\n",
    "        print(\"Base class\")\n",
    "        \n",
    "class derived(base):\n",
    "    def method2(self):\n",
    "        print(\"derived class\")"
   ]
  },
  {
   "cell_type": "code",
   "execution_count": 14,
   "id": "2ffefd56-35b1-46e9-b15d-9749aa3a006d",
   "metadata": {},
   "outputs": [],
   "source": [
    "obj = derived()"
   ]
  },
  {
   "cell_type": "code",
   "execution_count": 15,
   "id": "fc8e9f5f-c1f1-490a-9907-13b6fd649fed",
   "metadata": {},
   "outputs": [
    {
     "name": "stdout",
     "output_type": "stream",
     "text": [
      "Base class\n"
     ]
    }
   ],
   "source": [
    "obj.method1()"
   ]
  },
  {
   "cell_type": "code",
   "execution_count": 16,
   "id": "838f79b0-3581-4611-956c-6feb641b63f6",
   "metadata": {},
   "outputs": [
    {
     "name": "stdout",
     "output_type": "stream",
     "text": [
      "derived class\n"
     ]
    }
   ],
   "source": [
    "obj.method2()"
   ]
  },
  {
   "cell_type": "code",
   "execution_count": 17,
   "id": "535cf8d9-2a1c-4032-a786-cf19d74738da",
   "metadata": {},
   "outputs": [],
   "source": [
    "# Example Multilevel inheritance\n",
    "class level1:\n",
    "    def method1(self):\n",
    "        print(\"Base class\")\n",
    "        \n",
    "class level2(level1):\n",
    "    def method2(self):\n",
    "        print(\"derived class\")\n",
    "        \n",
    "class level3(level2):\n",
    "    def method3(self):\n",
    "        print(\"derived derived class\")"
   ]
  },
  {
   "cell_type": "code",
   "execution_count": 18,
   "id": "101a3941-d970-4479-bf06-5ccb8a89f668",
   "metadata": {},
   "outputs": [],
   "source": [
    "obj1 = level3()"
   ]
  },
  {
   "cell_type": "code",
   "execution_count": 19,
   "id": "f6e2c9e3-ca79-4696-9c38-83a1d70f0c45",
   "metadata": {},
   "outputs": [
    {
     "name": "stdout",
     "output_type": "stream",
     "text": [
      "Base class\n"
     ]
    }
   ],
   "source": [
    "obj1.method1()"
   ]
  },
  {
   "cell_type": "code",
   "execution_count": 20,
   "id": "190adc21-8b4f-40ac-a59e-b69022fbe326",
   "metadata": {},
   "outputs": [
    {
     "name": "stdout",
     "output_type": "stream",
     "text": [
      "derived class\n"
     ]
    }
   ],
   "source": [
    "obj1.method2()"
   ]
  },
  {
   "cell_type": "code",
   "execution_count": 21,
   "id": "0dbdf717-7247-40b4-8afe-c6fab97ca843",
   "metadata": {},
   "outputs": [
    {
     "name": "stdout",
     "output_type": "stream",
     "text": [
      "derived derived class\n"
     ]
    }
   ],
   "source": [
    "obj1.method3()"
   ]
  },
  {
   "cell_type": "code",
   "execution_count": null,
   "id": "60817f29-86eb-4e25-83a1-13dea3f711d7",
   "metadata": {},
   "outputs": [],
   "source": []
  }
 ],
 "metadata": {
  "kernelspec": {
   "display_name": "Python 3 (ipykernel)",
   "language": "python",
   "name": "python3"
  },
  "language_info": {
   "codemirror_mode": {
    "name": "ipython",
    "version": 3
   },
   "file_extension": ".py",
   "mimetype": "text/x-python",
   "name": "python",
   "nbconvert_exporter": "python",
   "pygments_lexer": "ipython3",
   "version": "3.10.8"
  }
 },
 "nbformat": 4,
 "nbformat_minor": 5
}
