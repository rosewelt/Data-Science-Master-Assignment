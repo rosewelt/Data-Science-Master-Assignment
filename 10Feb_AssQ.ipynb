{
 "cells": [
  {
   "cell_type": "markdown",
   "id": "35047a9b",
   "metadata": {},
   "source": [
    "Q1. Which function is used to open a file? What are the different modes of opening a file? Explain each mode\n",
    "of file opening."
   ]
  },
  {
   "cell_type": "markdown",
   "id": "6b21f239",
   "metadata": {},
   "source": [
    "Open() is used to open a file. The different modes of opening a file are 'r','w','x','a','b','t','+'.\n",
    "\n",
    "\n",
    "'r'       open for reading (default)\n",
    "\n",
    "'w'       open for writing, truncating the file first\n",
    "\n",
    "'x'       create a new file and open it for writing\n",
    "\n",
    "'a'       open for writing, appending to the end of the file if it exists\n",
    "\n",
    "'b'       binary mode\n",
    "\n",
    "'t'       text mode (default)\n",
    "\n",
    "'+'       open a disk file for updating (reading and writing)"
   ]
  },
  {
   "cell_type": "markdown",
   "id": "436db26d",
   "metadata": {},
   "source": [
    "Q2. Why close() function is used? Why is it important to close a file?\n",
    "\n",
    "The close() method closes an open file. You should always close your files, in some cases, due to buffering, changes made to a file may not show until you close the file"
   ]
  },
  {
   "cell_type": "markdown",
   "id": "f64a3b79",
   "metadata": {},
   "source": [
    "Q3. Write a python program to create a text file. Write ‘I want to become a Data Scientist’ in that file. Then\n",
    "close the file. Open this file and read the content of the file."
   ]
  },
  {
   "cell_type": "code",
   "execution_count": 2,
   "id": "80dba14d",
   "metadata": {},
   "outputs": [],
   "source": [
    "with open(\"sample.txt\",'w') as f:\n",
    "    f.write('I want to become a Data Scientist')\n",
    "    f.close()"
   ]
  },
  {
   "cell_type": "code",
   "execution_count": 3,
   "id": "785b4808",
   "metadata": {},
   "outputs": [
    {
     "name": "stdout",
     "output_type": "stream",
     "text": [
      "I want to become a Data Scientist\n"
     ]
    }
   ],
   "source": [
    "with open(\"sample.txt\",'r') as f:\n",
    "    print(f.read())\n",
    "    "
   ]
  },
  {
   "cell_type": "markdown",
   "id": "853ab425",
   "metadata": {},
   "source": [
    "Q4. Explain the following with python code: read(), readline() and readlines()."
   ]
  },
  {
   "cell_type": "code",
   "execution_count": 5,
   "id": "c3d9bf9c",
   "metadata": {},
   "outputs": [],
   "source": [
    "with open(\"sample1.txt\",'w') as f:\n",
    "    f.write(\"I want to become a Data Scientist\\n\")\n",
    "    f.write(\"I want to become a Data Scientist\\n\")\n",
    "    f.write(\"I want to become a Data Scientist\\n\")\n",
    "    f.close()"
   ]
  },
  {
   "cell_type": "code",
   "execution_count": 6,
   "id": "6bd01a42",
   "metadata": {},
   "outputs": [
    {
     "name": "stdout",
     "output_type": "stream",
     "text": [
      "I want to become a Data Scientist\n",
      "I want to become a Data Scientist\n",
      "I want to become a Data Scientist\n",
      "\n"
     ]
    }
   ],
   "source": [
    "#The read() method returns the specified number of bytes from the file. Default is -1 which means the whole file.\n",
    "with open(\"sample1.txt\",'r') as f:\n",
    "    print(f.read())"
   ]
  },
  {
   "cell_type": "code",
   "execution_count": 7,
   "id": "6c188c5d",
   "metadata": {},
   "outputs": [
    {
     "name": "stdout",
     "output_type": "stream",
     "text": [
      "I want to become a Data Scientist\n",
      "\n"
     ]
    }
   ],
   "source": [
    "#The readline() method returns one line from the file\n",
    "with open(\"sample1.txt\",'r') as f:\n",
    "    print(f.readline())"
   ]
  },
  {
   "cell_type": "code",
   "execution_count": 8,
   "id": "4bc84ad1",
   "metadata": {},
   "outputs": [
    {
     "name": "stdout",
     "output_type": "stream",
     "text": [
      "['I want to become a Data Scientist\\n', 'I want to become a Data Scientist\\n', 'I want to become a Data Scientist\\n']\n"
     ]
    }
   ],
   "source": [
    "#The readlines() method returns a list containing each line in the file as a list item\n",
    "with open(\"sample1.txt\",'r') as f:\n",
    "    print(f.readlines())"
   ]
  },
  {
   "cell_type": "code",
   "execution_count": 9,
   "id": "6d6860e9",
   "metadata": {},
   "outputs": [
    {
     "name": "stdout",
     "output_type": "stream",
     "text": [
      "I want to \n"
     ]
    }
   ],
   "source": [
    "with open(\"sample1.txt\",'r') as f:\n",
    "    print(f.read(10))"
   ]
  },
  {
   "cell_type": "markdown",
   "id": "2c0b8175",
   "metadata": {},
   "source": [
    "Q5. Explain why with statement is used with open(). What is the advantage of using with statement and\n",
    "open() together?"
   ]
  },
  {
   "cell_type": "markdown",
   "id": "17bc4a37",
   "metadata": {},
   "source": [
    "The with statement works with the open() function to open a file. Unlike open() where you have to close the file with the close() method, the with statement closes the file for you without you telling it to. "
   ]
  },
  {
   "cell_type": "markdown",
   "id": "f9863936",
   "metadata": {},
   "source": [
    "Q6. Explain the write() and writelines() functions. Give a suitable example.\n",
    "\n",
    "write() method takes a string as an argument and writes it to the text file. \n",
    "\n",
    "writelines() method is used to write multiple strings to a file. We need to pass an iterable object like lists, tuple etc. containing strings to writelines() method."
   ]
  },
  {
   "cell_type": "code",
   "execution_count": 15,
   "id": "32898583",
   "metadata": {},
   "outputs": [],
   "source": [
    "newline = '\\n'\n",
    "line1 = \"This\"\n",
    "line2 = \"is an\"\n",
    "line3 = \"example\"\n",
    "lines = line1,newline, line2, newline, line3\n",
    "with open('sample2.txt','w') as f:\n",
    "    f.writelines(lines)"
   ]
  },
  {
   "cell_type": "code",
   "execution_count": 18,
   "id": "4e123833",
   "metadata": {},
   "outputs": [
    {
     "name": "stdout",
     "output_type": "stream",
     "text": [
      "This\n",
      "is an\n",
      "example\n"
     ]
    }
   ],
   "source": [
    "f = open('sample2.txt')\n",
    "print(f.read())"
   ]
  },
  {
   "cell_type": "code",
   "execution_count": 17,
   "id": "d64bcac3",
   "metadata": {},
   "outputs": [],
   "source": [
    "newline = '\\n'\n",
    "line1 = \"This\"\n",
    "line2 = \"is an\"\n",
    "line3 = \"example\"\n",
    "lines = line1 + newline + line2 + newline + line3\n",
    "with open('sample3.txt','w') as f:\n",
    "    f.write(lines)"
   ]
  },
  {
   "cell_type": "code",
   "execution_count": 19,
   "id": "29f67ba6",
   "metadata": {},
   "outputs": [
    {
     "name": "stdout",
     "output_type": "stream",
     "text": [
      "This\n",
      "is an\n",
      "example\n"
     ]
    }
   ],
   "source": [
    "f = open('sample3.txt')\n",
    "print(f.read())"
   ]
  },
  {
   "cell_type": "code",
   "execution_count": null,
   "id": "1b2eb02f",
   "metadata": {},
   "outputs": [],
   "source": []
  }
 ],
 "metadata": {
  "kernelspec": {
   "display_name": "Python 3 (ipykernel)",
   "language": "python",
   "name": "python3"
  },
  "language_info": {
   "codemirror_mode": {
    "name": "ipython",
    "version": 3
   },
   "file_extension": ".py",
   "mimetype": "text/x-python",
   "name": "python",
   "nbconvert_exporter": "python",
   "pygments_lexer": "ipython3",
   "version": "3.11.5"
  }
 },
 "nbformat": 4,
 "nbformat_minor": 5
}
