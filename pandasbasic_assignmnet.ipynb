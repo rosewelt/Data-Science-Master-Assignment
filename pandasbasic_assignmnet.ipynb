{
 "cells": [
  {
   "cell_type": "markdown",
   "id": "e560c190-26fe-4435-9588-d6f4952543e6",
   "metadata": {},
   "source": [
    "Q1. Create a Pandas Series that contains the following data: 4, 8, 15, 16, 23, and 42. Then, print the series."
   ]
  },
  {
   "cell_type": "code",
   "execution_count": 7,
   "id": "0c7d3e68-07a3-4d49-8b79-e158fd855c06",
   "metadata": {},
   "outputs": [
    {
     "name": "stdout",
     "output_type": "stream",
     "text": [
      "0     4\n",
      "1     8\n",
      "2    15\n",
      "3    16\n",
      "4    23\n",
      "5    42\n",
      "dtype: int64\n"
     ]
    }
   ],
   "source": [
    "import pandas as pd\n",
    "data = [4,8,15,16,23,42]\n",
    "ser = pd.Series(data)\n",
    "print(ser)"
   ]
  },
  {
   "cell_type": "markdown",
   "id": "9d49cabf-5fb0-48b6-a821-026db03a03ec",
   "metadata": {},
   "source": [
    "Q2. Create a variable of list type containing 10 elements in it, and apply pandas.Series function on the\n",
    "variable print it."
   ]
  },
  {
   "cell_type": "code",
   "execution_count": 11,
   "id": "cdd4122b-be6b-4f9c-b1e7-ae24ea5e5be0",
   "metadata": {},
   "outputs": [
    {
     "name": "stdout",
     "output_type": "stream",
     "text": [
      "0    1\n",
      "1    2\n",
      "2    3\n",
      "3    4\n",
      "4    5\n",
      "5    y\n",
      "6    u\n",
      "7    i\n",
      "8    o\n",
      "9    i\n",
      "dtype: object\n"
     ]
    }
   ],
   "source": [
    "import pandas as pd\n",
    "list = [1,2,3,4,5,'y','u','i','o','i']\n",
    "print(pd.Series(list))"
   ]
  },
  {
   "cell_type": "markdown",
   "id": "208312a7-028b-4b1b-9e10-5b021765fff5",
   "metadata": {},
   "source": [
    "Q3. Create a Pandas DataFrame that contains the following data:"
   ]
  },
  {
   "cell_type": "code",
   "execution_count": 17,
   "id": "eb2bd5a8-0128-415a-961b-a601252e894c",
   "metadata": {},
   "outputs": [
    {
     "name": "stdout",
     "output_type": "stream",
     "text": [
      "     Name  Age  Gender\n",
      "0   Alice   25  Gender\n",
      "1     Bob   30    Male\n",
      "2  Claire   27  Female\n"
     ]
    }
   ],
   "source": [
    "import pandas as pd\n",
    "data ={'Name':['Alice','Bob','Claire'],'Age' :[25,30,27],'Gender' :['Gender','Male','Female']}\n",
    "df = pd.DataFrame(data)\n",
    "print(df)"
   ]
  },
  {
   "cell_type": "markdown",
   "id": "f61dfb43-bd24-4fe0-8afd-d0d9f6735fc4",
   "metadata": {},
   "source": [
    "Q4. What is ‘DataFrame’ in pandas and how is it different from pandas.series? Explain with an example."
   ]
  },
  {
   "cell_type": "markdown",
   "id": "21927ae4-6c59-4678-b15f-984b14bbe75a",
   "metadata": {},
   "source": [
    "Pandas Series is a 1D array of data, but a single-column DataFrame is a 2D table with one column. The main distinction between the two is this. For a single-column DataFrame, an index can be optional, but a Series has to have an index defined."
   ]
  },
  {
   "cell_type": "code",
   "execution_count": 5,
   "id": "8f21e64f-9b85-4fd0-9054-a31533787801",
   "metadata": {},
   "outputs": [
    {
     "name": "stdout",
     "output_type": "stream",
     "text": [
      "0    1\n",
      "1    2\n",
      "2    3\n",
      "3    4\n",
      "4    5\n",
      "5    y\n",
      "6    u\n",
      "7    i\n",
      "8    o\n",
      "9    i\n",
      "dtype: object\n",
      "   0\n",
      "0  1\n",
      "1  2\n",
      "2  3\n",
      "3  4\n",
      "4  5\n",
      "5  y\n",
      "6  u\n",
      "7  i\n",
      "8  o\n",
      "9  i\n"
     ]
    },
    {
     "data": {
      "text/plain": [
       "pandas.core.frame.DataFrame"
      ]
     },
     "execution_count": 5,
     "metadata": {},
     "output_type": "execute_result"
    }
   ],
   "source": [
    "import pandas as pd\n",
    "list = [1,2,3,4,5,'y','u','i','o','i']\n",
    "ser = pd.Series(list)\n",
    "print(ser)\n",
    "type(ser)\n",
    "df = pd.DataFrame(list)\n",
    "print(df)\n",
    "type(df)"
   ]
  },
  {
   "cell_type": "markdown",
   "id": "9423441f-ec2e-43e5-9708-1539df61cf1f",
   "metadata": {},
   "source": [
    "Q5. What are some common functions you can use to manipulate data in a Pandas DataFrame? Can\n",
    "you give an example of when you might use one of these functions?"
   ]
  },
  {
   "cell_type": "markdown",
   "id": "0088491c-556b-4578-95b8-d24ef894f27c",
   "metadata": {},
   "source": [
    "Slicing, Loc and iloc\n",
    "loc: select by labels\n",
    "iloc: select by positions\n",
    "Slicing: Similar to list slice"
   ]
  },
  {
   "cell_type": "markdown",
   "id": "98d5c150-70a8-45ce-8b14-0de06e277ef5",
   "metadata": {},
   "source": [
    "Q6. Which of the following is mutable in nature Series, DataFrame, Panel?"
   ]
  },
  {
   "cell_type": "markdown",
   "id": "1b0a1ac5-0b84-4ff3-92ba-212b09094bed",
   "metadata": {},
   "source": [
    "In Series Data is mutable whereas Size is Immutable\n",
    "In Data Frame Data is mutable whereas Size is Immutable\n",
    "In Panel Data is mutable whereas Size is Immutable"
   ]
  },
  {
   "cell_type": "markdown",
   "id": "63e5b7ec-71c6-47c8-83bf-bb98efafdda0",
   "metadata": {},
   "source": [
    "Q7. Create a DataFrame using multiple Series. Explain with an example."
   ]
  },
  {
   "cell_type": "code",
   "execution_count": 8,
   "id": "1ae66d5d-ae88-49fd-8bca-68b9f61fbb36",
   "metadata": {},
   "outputs": [
    {
     "name": "stdout",
     "output_type": "stream",
     "text": [
      "        0   1\n",
      "0     bob  25\n",
      "1  miller  35\n",
      "2   tajur  23\n"
     ]
    }
   ],
   "source": [
    "import pandas as pd\n",
    "# Create pandas Series\n",
    "name = pd.Series([\"bob\",\"miller\",\"tajur\"])\n",
    "Age = pd.Series([25,35,23])\n",
    "df=pd.concat([name,Age],axis=1)\n",
    "print(df)"
   ]
  },
  {
   "cell_type": "code",
   "execution_count": null,
   "id": "2b649101-d36c-40e7-a485-4868f6bc3d71",
   "metadata": {},
   "outputs": [],
   "source": []
  }
 ],
 "metadata": {
  "kernelspec": {
   "display_name": "Python 3 (ipykernel)",
   "language": "python",
   "name": "python3"
  },
  "language_info": {
   "codemirror_mode": {
    "name": "ipython",
    "version": 3
   },
   "file_extension": ".py",
   "mimetype": "text/x-python",
   "name": "python",
   "nbconvert_exporter": "python",
   "pygments_lexer": "ipython3",
   "version": "3.10.8"
  }
 },
 "nbformat": 4,
 "nbformat_minor": 5
}
