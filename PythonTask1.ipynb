{
 "cells": [
  {
   "cell_type": "markdown",
   "id": "f8a20bba",
   "metadata": {},
   "source": [
    "Q1. Create a function which will take a list as an argument and return the product of all the numbers\n",
    "after creating a flat list.\n",
    "Use the below-given list as an argument for your function.\n",
    "\n",
    "\n",
    "\n",
    "Note: you must extract numeric keys and values of the dictionary also.|"
   ]
  },
  {
   "cell_type": "code",
   "execution_count": 61,
   "id": "ad9500b3",
   "metadata": {},
   "outputs": [],
   "source": [
    "list1 = [1,2,3,4, [44,55,66, True], False, (34,56,78,89,34), {1,2,3,3,2,1}, {1:34, \"key2\": [55, 67, 78, 89], 4: (45,\n",
    "22, 61, 34)}, [56, 'data science'], 'Machine Learning']"
   ]
  },
  {
   "cell_type": "code",
   "execution_count": 151,
   "id": "8879f3cd",
   "metadata": {},
   "outputs": [],
   "source": [
    "def create_flatlist(list1):\n",
    "    flatlist = []\n",
    "    final_flat_list=[]\n",
    "    product = 1\n",
    "    \n",
    "    for sublist in list1:\n",
    "        #print(sublist)\n",
    "\n",
    "        if type(sublist) == int:\n",
    "            flatlist.append(sublist)\n",
    "        if type(sublist) == list:\n",
    "            for i in sublist:\n",
    "                flatlist.append(i)\n",
    "        if type(sublist) == tuple:\n",
    "            for i in sublist:\n",
    "                flatlist.append(i) \n",
    "        if type(sublist) == set:\n",
    "            for i in sublist:\n",
    "                flatlist.append(i)\n",
    "        if type(sublist) == dict:\n",
    "            for i in sublist:\n",
    "                flatlist.append(i)\n",
    "                if type(sublist[i]) == int:\n",
    "                    flatlist.append(sublist[i])\n",
    "                if type(sublist[i]) == list:\n",
    "                    for j in sublist[i]:\n",
    "                        flatlist.append(j)\n",
    "                if type(sublist[i]) == tuple:\n",
    "                    for j in sublist[i]:\n",
    "                        flatlist.append(j)\n",
    "\n",
    "\n",
    "\n",
    "    for lst in flatlist:\n",
    "        if type(lst) == int:\n",
    "            final_flat_list.append(lst)\n",
    "           \n",
    "    \n",
    "    \n",
    "    for xin in final_flat_list:\n",
    "        product = product * xin\n",
    "    \n",
    "    \n",
    "    \n",
    "    return product\n",
    "            \n",
    "            \n",
    "            \n",
    "        \n",
    "  \n",
    "\n",
    "   "
   ]
  },
  {
   "cell_type": "code",
   "execution_count": 152,
   "id": "41f6bb5a",
   "metadata": {},
   "outputs": [
    {
     "data": {
      "text/plain": [
       "4134711838987085478833841242112000"
      ]
     },
     "execution_count": 152,
     "metadata": {},
     "output_type": "execute_result"
    }
   ],
   "source": [
    "create_flatlist(list1)"
   ]
  },
  {
   "cell_type": "markdown",
   "id": "8d98a7af",
   "metadata": {},
   "source": [
    "Q2. Write a python program for encrypting a message sent to you by your friend. The logic of encryption\n",
    "should be such that, for a the output should be z. For b, the output should be y. For c, the output should\n",
    "be x respectively. Also, the whitespace should be replaced with a dollar sign. Keep the punctuation\n",
    "marks unchanged.\n",
    "\n",
    "Input Sentence: I want to become a Data Scientist.\n",
    "Encrypt the above input sentence using the program you just created.\n",
    "Note: Convert the given input sentence into lowercase before encrypting. The final output should be\n",
    "lowercase."
   ]
  },
  {
   "cell_type": "code",
   "execution_count": 213,
   "id": "6c1aea6e",
   "metadata": {},
   "outputs": [
    {
     "name": "stdout",
     "output_type": "stream",
     "text": [
      "r$dzmg$gl$yvxlnv$z$wzgz$hxrvmgrhg\n"
     ]
    }
   ],
   "source": [
    "import string\n",
    "encryptword = []\n",
    "keyword = string.ascii_lowercase\n",
    "enkey = keyword[::-1]\n",
    "\n",
    "for i in Input_Sentence.lower():\n",
    "    x = keyword.find(i)\n",
    "   \n",
    "    if i == ' ':\n",
    "        encryptword.append('$')\n",
    "       \n",
    "    else:\n",
    "        encryptword.append(enkey[x])\n",
    "        \n",
    "    \n",
    "    \n",
    "    \n",
    "    \n",
    "        \n",
    "    \n",
    "    \n",
    "\n",
    "print(''.join(encryptword))"
   ]
  },
  {
   "cell_type": "code",
   "execution_count": null,
   "id": "c732278d",
   "metadata": {},
   "outputs": [],
   "source": []
  }
 ],
 "metadata": {
  "kernelspec": {
   "display_name": "Python 3 (ipykernel)",
   "language": "python",
   "name": "python3"
  },
  "language_info": {
   "codemirror_mode": {
    "name": "ipython",
    "version": 3
   },
   "file_extension": ".py",
   "mimetype": "text/x-python",
   "name": "python",
   "nbconvert_exporter": "python",
   "pygments_lexer": "ipython3",
   "version": "3.11.5"
  }
 },
 "nbformat": 4,
 "nbformat_minor": 5
}
