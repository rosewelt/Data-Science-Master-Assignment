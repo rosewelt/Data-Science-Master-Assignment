{
 "cells": [
  {
   "cell_type": "markdown",
   "id": "ea607b12",
   "metadata": {},
   "source": [
    "Q1: What are the Probability Mass Function (PMF) and Probability Density Function (PDF)? Explain with\n",
    "an example.\n",
    "\n",
    "Probability mass function denotes the probability that a discrete random variable will take on a particular value. It is used for discrete random variables.\n",
    "\n",
    "Probability density function gives the probability that a continuous random variable will lie between a certain specified interval. It is used for continous random variables."
   ]
  },
  {
   "cell_type": "markdown",
   "id": "80f9498b",
   "metadata": {},
   "source": [
    "Q2: What is Cumulative Density Function (CDF)? Explain with an example. Why CDF is used?\n",
    "\n",
    "The cumulative distribution function (CDF) of random variable X is defined as FX(x) = P(X ≤ x), for all x ∈ R. Note that the subscript X indicates that this is the CDF of the random variable X. Also, note that the CDF is defined for all x ∈ R. \n",
    "\n",
    "Consider a simple example for CDF which is given by rolling a fair six-sided die, where X is the random variable\n",
    "\n",
    "We know that the probability of getting an outcome by rolling a six-sided die is given as:\n",
    "\n",
    "Probability of getting 1 = P(X≤ 1 ) = 1 / 6\n",
    "\n",
    "Probability of getting 2 = P(X≤ 2 ) = 2 / 6\n",
    "\n",
    "Probability of getting 3 = P(X≤ 3 ) = 3 / 6\n",
    "\n",
    "Probability of getting 4 = P(X≤ 4 ) = 4 / 6\n",
    "\n",
    "Probability of getting 5 = P(X≤ 5 ) = 5 / 6\n",
    "\n",
    "Probability of getting 6 = P(X≤ 6 ) = 6 / 6 = 1\n",
    "\n",
    "From this, it is noted that the probability value always lies between 0 and 1 and it is non-decreasing and right continuous in nature.\n",
    "\n",
    "The CDF is used to determine the likelihood that a random observation taken from the population will be less than or equal to a particular value."
   ]
  },
  {
   "cell_type": "markdown",
   "id": "61c0ceca",
   "metadata": {},
   "source": [
    "Q3: What are some examples of situations where the normal distribution might be used as a model?\n",
    "Explain how the parameters of the normal distribution relate to the shape of the distribution.\n",
    "\n",
    "“Height of people” is something that follows a normal distribution pattern perfectly: Most people are of average height, the numbers of people that are taller and shorter than average are fairly equal and a very small (and still roughly equivalent) number of people are either extremely tall or extremely short.\n",
    "\n",
    "The parameters are mean,median, and mode, variance, standard deviation."
   ]
  },
  {
   "cell_type": "markdown",
   "id": "f9c372bd",
   "metadata": {},
   "source": [
    "Q4: Explain the importance of Normal Distribution. Give a few real-life examples of Normal\n",
    "Distribution.\n",
    "\n",
    "In a normal distribution, data is symmetrically distributed with no skew. When plotted on a graph, the data follows a bell shape, with most values clustering around a central region and tapering off as they go further away from the center.\n",
    "\n",
    "normal distribution is good enough to represent the distribution of continuous variable like-height,weight,blood pressure etc"
   ]
  },
  {
   "cell_type": "markdown",
   "id": "39a6321e",
   "metadata": {},
   "source": [
    "Q5: What is Bernaulli Distribution? Give an Example. What is the difference between Bernoulli\n",
    "Distribution and Binomial Distribution?\n",
    "\n",
    "Bernoulli distribution applies to events that have one trial and two possible outcomes. These are known as Bernoulli trials. Think of any kind of experiment that asks a yes or no question—for example, will this coin land on heads when I flip it? Will I roll a six with this die? Will I pick an ace from this deck of cards? Will voter X vote “yes” in a political referendum? Will student Y pass their math test?\n",
    "\n",
    "Bernoulli distribution is a type of binomial distribution. We know that Bernoulli distribution applies to events that have one trial (n = 1) and two possible outcomes—for example, one coin flip (that’s the trial) and an outcome of either heads or tails. When we have more than one trial—say, we flip a coin five times—binomial distribution gives the discrete probability distribution of the number of “successes” in that sequence of independent coin flips (or trials).\n",
    "\n",
    "So, to continue with the coin flip example: Bernoulli distribution gives you the probability of “success” (say, landing on heads) when flipping the coin just once (that’s your Bernoulli trial). If you flip the coin five times, binomial distribution will calculate the probability of success (landing on heads) across all five coin flips."
   ]
  },
  {
   "cell_type": "markdown",
   "id": "81bdf993",
   "metadata": {},
   "source": [
    "Q6. Consider a dataset with a mean of 50 and a standard deviation of 10. If we assume that the dataset\n",
    "is normally distributed, what is the probability that a randomly selected observation will be greater\n",
    "than 60? Use the appropriate formula and show your calculations.\n",
    "\n",
    "mean =50\n",
    "\n",
    "SD = 10\n",
    "\n",
    "Z-Score = (60-50)/10 = 1 = .84134 \n",
    "\n",
    "=1-.84134 =0.15866 = 15.8%\n",
    "\n"
   ]
  },
  {
   "cell_type": "code",
   "execution_count": null,
   "id": "09d60c54",
   "metadata": {},
   "outputs": [],
   "source": [
    "Q7: Explain uniform Distribution with an example."
   ]
  },
  {
   "cell_type": "markdown",
   "id": "a5148210",
   "metadata": {},
   "source": [
    "Q8: What is the z score? State the importance of the z score.\n",
    "\n",
    "A z-score measures the distance between a data point and the mean using standard deviations. Z-scores can be positive or negative. The sign tells you whether the observation is above or below the mean.\n",
    "\n",
    "In it's most basic form, the z-score allows you determine how far (measured in standard deviations) the returns for the stock you're evaluating are from the mean of a sample of stocks. The average score you have could be the mean of a stock's annual return, the average return of the index it is listed on, or the average return of a selection of stocks you've picked."
   ]
  },
  {
   "cell_type": "markdown",
   "id": "b68640b7",
   "metadata": {},
   "source": [
    "Q9: What is Central Limit Theorem? State the significance of the Central Limit Theorem.\n",
    "\n",
    "The CLT is a statistical theory that states that - if you take a sufficiently large sample size from a population with a finite level of variance, the mean of all samples from that population will be roughly equal to the population mean.\n",
    "\n",
    "The CLT is a statistical theory that states that - if you take a sufficiently large sample size from a population with a finite level of variance, the mean of all samples from that population will be roughly equal to the population mean."
   ]
  },
  {
   "cell_type": "markdown",
   "id": "e9669bb2",
   "metadata": {},
   "source": [
    "Q10: State the assumptions of the Central Limit Theorem.\n",
    "    \n",
    "The data must follow the randomization condition. It must be sampled randomly\n",
    "Samples should be independent of each other. One sample should not influence the other samples\n",
    "\n",
    "Sample size should be not more than 10% of the population when sampling is done without replacement\n",
    "\n",
    "The sample size should be sufficiently large. Now, how will we figure out how large this size should be? Well, it depends on the population. When the population is skewed or asymmetric, the sample size should be large. If the population is symmetric, then we can draw small samples as well."
   ]
  },
  {
   "cell_type": "code",
   "execution_count": null,
   "id": "84225b90",
   "metadata": {},
   "outputs": [],
   "source": []
  }
 ],
 "metadata": {
  "kernelspec": {
   "display_name": "Python 3 (ipykernel)",
   "language": "python",
   "name": "python3"
  },
  "language_info": {
   "codemirror_mode": {
    "name": "ipython",
    "version": 3
   },
   "file_extension": ".py",
   "mimetype": "text/x-python",
   "name": "python",
   "nbconvert_exporter": "python",
   "pygments_lexer": "ipython3",
   "version": "3.11.5"
  }
 },
 "nbformat": 4,
 "nbformat_minor": 5
}
