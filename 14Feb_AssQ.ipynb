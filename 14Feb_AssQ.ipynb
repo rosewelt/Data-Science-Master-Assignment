{
 "cells": [
  {
   "cell_type": "markdown",
   "id": "e8a59374",
   "metadata": {},
   "source": [
    "Q1. What is multithreading in python? Why is it used? Name the module used to handle threads in python\n",
    "\n",
    " Multithreading refers to the mechanism of dividing the main task in more than one sub-tasks and executing them in an overlapping manner. \n",
    " \n",
    " This makes the execution faster as compared to single thread.\n",
    " \n",
    " threading module is used for creating, controlling and managing threads in python."
   ]
  },
  {
   "cell_type": "markdown",
   "id": "e4591fe3",
   "metadata": {},
   "source": [
    "Q2. Why threading module used? write the use of the following functions\n",
    "\n",
    "1. activeCount\n",
    "\n",
    "2. currentThread\n",
    "\n",
    "3. enumerate\n",
    "\n",
    "threading module is used for creating, controlling and managing threads in python.\n",
    "\n",
    "The method threading.active_count() from the threading module is used to count the currently active or running threads.\n",
    "\n",
    "The threading.current_thread() is an inbuilt method of the threading module, it is used to return the current Thread object, which corresponds to the caller's thread of control.\n",
    "\n",
    "The threading.enumerate() is an inbuilt method of the threading module, it is used to return the list of all the Thread class objects which are currently alive. "
   ]
  },
  {
   "cell_type": "code",
   "execution_count": 14,
   "id": "25933cbe",
   "metadata": {},
   "outputs": [],
   "source": [
    "import threading\n",
    "import time\n",
    "def example(x):\n",
    "    print(\"the examples of thread program with value of x is %d\" %x)\n",
    "    \n",
    "    print(\"Thread-1: Number of active threads:\", threading.active_count())\n",
    "    print(\"Thread-1: Current Thread:\", threading.current_thread())\n",
    "    print(\"Thread-1:Enumetate:\", threading.enumerate())\n",
    "    time.sleep(1)\n",
    "    \n"
   ]
  },
  {
   "cell_type": "code",
   "execution_count": 15,
   "id": "33334c97",
   "metadata": {},
   "outputs": [],
   "source": [
    "thread = [threading.Thread(target = example, args=(i,)) for i in [1,2,3,4]]"
   ]
  },
  {
   "cell_type": "code",
   "execution_count": 16,
   "id": "52556e52",
   "metadata": {},
   "outputs": [
    {
     "name": "stdout",
     "output_type": "stream",
     "text": [
      "the examples of thread program with value of x is 1\n",
      "Thread-1: Number of active threads: 8\n",
      "Thread-1: Current Thread: <Thread(Thread-21 (example), started 21056)>\n",
      "Thread-1:Enumetate: [<_MainThread(MainThread, started 144)>, <Thread(IOPub, started daemon 23780)>, <Heartbeat(Heartbeat, started daemon 18972)>, <ControlThread(Control, started daemon 11548)>, <HistorySavingThread(IPythonHistorySavingThread, started 14612)>, <ParentPollerWindows(Thread-4, started daemon 13472)>, <Thread(Thread-21 (example), started 21056)>, <Thread(Thread-22 (example), initial)>]\n",
      "the examples of thread program with value of x is 2\n",
      "Thread-1: Number of active threads: 8\n",
      "Thread-1: Current Thread: <Thread(Thread-22 (example), started 2620)>\n",
      "Thread-1:Enumetate: [<_MainThread(MainThread, started 144)>, <Thread(IOPub, started daemon 23780)>, <Heartbeat(Heartbeat, started daemon 18972)>, <ControlThread(Control, started daemon 11548)>, <HistorySavingThread(IPythonHistorySavingThread, started 14612)>, <ParentPollerWindows(Thread-4, started daemon 13472)>, <Thread(Thread-21 (example), started 21056)>, <Thread(Thread-22 (example), started 2620)>]\n",
      "the examples of thread program with value of x is 3\n",
      "Thread-1: Number of active threads: 9\n",
      "Thread-1: Current Thread: <Thread(Thread-23 (example), started 23092)>\n",
      "Thread-1:Enumetate: [<_MainThread(MainThread, started 144)>, <Thread(IOPub, started daemon 23780)>, <Heartbeat(Heartbeat, started daemon 18972)>, <ControlThread(Control, started daemon 11548)>, <HistorySavingThread(IPythonHistorySavingThread, started 14612)>, <ParentPollerWindows(Thread-4, started daemon 13472)>, <Thread(Thread-21 (example), started 21056)>, <Thread(Thread-22 (example), started 2620)>, <Thread(Thread-23 (example), started 23092)>]\n",
      "the examples of thread program with value of x is 4\n",
      "Thread-1: Number of active threads: 10\n",
      "Thread-1: Current Thread: <Thread(Thread-24 (example), started 16712)>\n",
      "Thread-1:Enumetate: [<_MainThread(MainThread, started 144)>, <Thread(IOPub, started daemon 23780)>, <Heartbeat(Heartbeat, started daemon 18972)>, <ControlThread(Control, started daemon 11548)>, <HistorySavingThread(IPythonHistorySavingThread, started 14612)>, <ParentPollerWindows(Thread-4, started daemon 13472)>, <Thread(Thread-21 (example), started 21056)>, <Thread(Thread-22 (example), started 2620)>, <Thread(Thread-23 (example), started 23092)>, <Thread(Thread-24 (example), started 16712)>]\n"
     ]
    }
   ],
   "source": [
    "for t in thread:\n",
    "    t.start()"
   ]
  },
  {
   "cell_type": "markdown",
   "id": "b1e210c0",
   "metadata": {},
   "source": [
    "Q3. Explain the following functions\n",
    "\n",
    "1. run()\n",
    "\n",
    "2. start()\n",
    "\n",
    "3. join()\n",
    "\n",
    "4. isAlive()"
   ]
  },
  {
   "cell_type": "markdown",
   "id": "140ef21f",
   "metadata": {},
   "source": [
    "The Thread.start() method is an inbuilt method of the Thread class of the threading module, it is used to start a thread's activity. This method calls the run() method internally which then executes the target method\n",
    "\n",
    "The Thread.join() method is an inbuilt method of the Thread class of the threading module. Whenever this method is called for any Thread object, it blocks the calling thread till the time the thread whose join() method is called terminates, either normally or through an unhandled exception.\n",
    "\n",
    "The Thread.is_alive() method is an inbuilt method of the Thread class of the threading module, it is used to check whether that thread is alive or not, ie, it is still running or not. This method returns True before the run() starts until just after the run() method is executed."
   ]
  },
  {
   "cell_type": "code",
   "execution_count": 31,
   "id": "07838636",
   "metadata": {},
   "outputs": [
    {
     "name": "stdout",
     "output_type": "stream",
     "text": [
      "Main: Waiting for thread to terminate...\n",
      "All done in the new thread\n",
      "Main: Continuing on\n"
     ]
    }
   ],
   "source": [
    "from time import sleep\n",
    "from threading import Thread\n",
    "\n",
    "def task():\n",
    "    # block for a moment\n",
    "    sleep(10)\n",
    "    # report a message\n",
    "    print('All done in the new thread')\n",
    " \n",
    "# create a new thread\n",
    "thread = Thread(target=task)\n",
    "# start the new thread\n",
    "thread.start()\n",
    "# wait for the new thread to finish\n",
    "print('Main: Waiting for thread to terminate...')\n",
    "thread.join()\n",
    "thread.join()\n",
    "# continue on\n",
    "print('Main: Continuing on')"
   ]
  },
  {
   "cell_type": "code",
   "execution_count": 32,
   "id": "f4be81ad",
   "metadata": {},
   "outputs": [
    {
     "name": "stdout",
     "output_type": "stream",
     "text": [
      "Is thread1 alive: False\n",
      "Is thread2 alive: False\n",
      "\n",
      "Value by Thread 2: 2\n",
      "Is thread1 alive: True\n",
      "Is thread2 alive: False\n",
      "Value by Thread 1: 1\n"
     ]
    }
   ],
   "source": [
    "\n",
    "import time\n",
    "import threading\n",
    "\n",
    "def thread_1(i):\n",
    "    time.sleep(5)\n",
    "    print('Value by Thread 1:', i)\n",
    "\n",
    "def thread_2(i):\n",
    "    print('Value by Thread 2:', i)\n",
    "    \n",
    "# Creating three sample threads \n",
    "thread1 = threading.Thread(target=thread_1, args=(1,))\n",
    "thread2 = threading.Thread(target=thread_2, args=(2,))\n",
    "\n",
    "# Before calling the start(), both threads are not alive\n",
    "print(\"Is thread1 alive:\", thread1.is_alive())\n",
    "print(\"Is thread2 alive:\", thread2.is_alive())\n",
    "print()\n",
    "\n",
    "thread1.start()\n",
    "thread2.start()\n",
    "# Since thread11 is on sleep for 5 seconds, it is alive\n",
    "# while thread 2 is executed instantly\n",
    "\n",
    "print(\"Is thread1 alive:\", thread1.is_alive())\n",
    "print(\"Is thread2 alive:\", thread2.is_alive())\n"
   ]
  },
  {
   "cell_type": "markdown",
   "id": "a75d837b",
   "metadata": {},
   "source": [
    "Q4. Write a python program to create two threads. Thread one must print the list of squares and thread\n",
    "two must print the list of cubes"
   ]
  },
  {
   "cell_type": "code",
   "execution_count": 27,
   "id": "7c4cd117",
   "metadata": {},
   "outputs": [
    {
     "name": "stdout",
     "output_type": "stream",
     "text": [
      "cube is 0\n",
      "cube is 1\n",
      "cube is 8\n",
      "cube is 27\n",
      "cube is 64\n",
      "cube is 125\n",
      "cube is 216\n",
      "cube is 343\n",
      "cube is 512\n",
      "cube is 729\n",
      "Square is 0\n",
      "Square is 1\n",
      "Square is 4\n",
      "Square is 9\n",
      "Square is 16\n",
      "Square is 25\n",
      "Square is 36\n",
      "Square is 49\n",
      "Square is 64\n",
      "Square is 81\n"
     ]
    }
   ],
   "source": [
    "import threading\n",
    "\n",
    "def print_cube(x):\n",
    "    print(\"cube is {}\". format(x**3))\n",
    "    \n",
    "def print_square(x):\n",
    "    print(\"Square is {}\". format(x**2))\n",
    "    \n",
    "thread1 = [threading.Thread(target=print_cube, args=(i,)) for i in range(10)]\n",
    "thread2 = [threading.Thread(target=print_square, args=(i,)) for i in range(10)]\n",
    "for t1 in thread1:\n",
    "    t1.start()\n",
    "for t2 in thread2:\n",
    "    t2.start()"
   ]
  },
  {
   "cell_type": "markdown",
   "id": "426c678a",
   "metadata": {},
   "source": [
    "Q5. State advantages and disadvantages of multithreading\n",
    "\n",
    "Advantages of Multi-threading\n",
    "\n",
    "Effective utilization of resources\n",
    "More responsive\n",
    "Resource sharing makes it more economical\n",
    "Effective use of Multiprocessor architecture due to parallelism\n",
    "Saves time\n",
    "Threads (since part of the same process) communicate with each other more easily than if they were separate processes\n",
    "They do not require much memory overhead\n",
    "Multi-threaded servers and interactive GUIs use multithreading exclusively.\n",
    "\n",
    "Disadvantages of Multi-threading\n",
    "\n",
    "Increases the complexity of the program.\n",
    "Synchronization of shared resources (objects, data) is necessary.\n",
    "Difficult to debug unpredictable results\n",
    "Constructing and synchronizing threads is CPU/memory intensive."
   ]
  },
  {
   "cell_type": "markdown",
   "id": "a043e3c1",
   "metadata": {},
   "source": [
    "Q6. Explain deadlocks and race conditions.\n",
    "\n",
    "deadlock. Two threads hold locks on different resources, each waiting indefinitely for the other to release its lock. \n",
    "\n",
    "race condition. Two (or more) threads alter the state of a shared resource concurrently, leaving it in an unpredictable state."
   ]
  },
  {
   "cell_type": "code",
   "execution_count": null,
   "id": "9c17ad4d",
   "metadata": {},
   "outputs": [],
   "source": []
  }
 ],
 "metadata": {
  "kernelspec": {
   "display_name": "Python 3 (ipykernel)",
   "language": "python",
   "name": "python3"
  },
  "language_info": {
   "codemirror_mode": {
    "name": "ipython",
    "version": 3
   },
   "file_extension": ".py",
   "mimetype": "text/x-python",
   "name": "python",
   "nbconvert_exporter": "python",
   "pygments_lexer": "ipython3",
   "version": "3.11.5"
  }
 },
 "nbformat": 4,
 "nbformat_minor": 5
}
