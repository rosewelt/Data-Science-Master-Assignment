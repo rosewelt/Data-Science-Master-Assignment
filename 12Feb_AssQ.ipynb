{
 "cells": [
  {
   "cell_type": "markdown",
   "id": "4333811a",
   "metadata": {},
   "source": [
    "Q1. What is an Exception in python? Write the difference between Exceptions\n",
    "and syntax errors"
   ]
  },
  {
   "cell_type": "markdown",
   "id": "3478f1cd",
   "metadata": {},
   "source": [
    "Exception is a condition that interrupts the normal flow of the program.\n",
    "Errors that occur at runtime (after passing the syntax test) are called exceptions. syntax errors are once which fail the syntax test."
   ]
  },
  {
   "cell_type": "markdown",
   "id": "93ab0d05",
   "metadata": {},
   "source": [
    "Q2. What happens when an exception is not handled? Explain with an example.\n",
    "\n",
    "If an exception is not handled the normal flow of the program will get interepted.\n",
    "\n",
    "\n",
    "\n"
   ]
  },
  {
   "cell_type": "markdown",
   "id": "8c39ff64",
   "metadata": {},
   "source": [
    "a = 10\n",
    "b = 0\n",
    "print(a/b)"
   ]
  },
  {
   "cell_type": "markdown",
   "id": "4c7f514d",
   "metadata": {},
   "source": [
    "Q3. Which Python statements are used to catch and handle exceptions? Explain with an example.\n",
    "\n",
    "except keyword is used to catch and handle exceptions"
   ]
  },
  {
   "cell_type": "code",
   "execution_count": 15,
   "id": "b6d1b5ec",
   "metadata": {},
   "outputs": [
    {
     "name": "stdout",
     "output_type": "stream",
     "text": [
      "The excpetion is handled here  division by zero\n"
     ]
    }
   ],
   "source": [
    "a = 10\n",
    "b = 0\n",
    "try:\n",
    "    print(a/b)\n",
    "except Exception as e:\n",
    "    print(\"The excpetion is handled here \", e)"
   ]
  },
  {
   "cell_type": "markdown",
   "id": "22e48832",
   "metadata": {},
   "source": [
    "Q4. Explain with an example:\n",
    "a. try and else\n",
    "b. finally\n",
    "c. raise"
   ]
  },
  {
   "cell_type": "code",
   "execution_count": 16,
   "id": "d4903e4b",
   "metadata": {},
   "outputs": [
    {
     "name": "stdout",
     "output_type": "stream",
     "text": [
      "Enter the value for a2\n",
      "Enter the value for b1\n",
      "2.0\n",
      "The program executed without any exception\n"
     ]
    }
   ],
   "source": [
    "a = int(input(\"Enter the value for a\"))\n",
    "b = int(input(\"Enter the value for b\"))\n",
    "try:\n",
    "    print(a/b)\n",
    "except Exception as e:\n",
    "    print(\"The excpetion is handled here \", e)\n",
    "else:\n",
    "    print(\"The program executed without any exception\")"
   ]
  },
  {
   "cell_type": "code",
   "execution_count": 17,
   "id": "bef0c913",
   "metadata": {},
   "outputs": [
    {
     "name": "stdout",
     "output_type": "stream",
     "text": [
      "Enter the value for a0\n",
      "Enter the value for b0\n",
      "The excpetion is handled here  division by zero\n",
      "If exception or not an exception this block will exceute\n"
     ]
    }
   ],
   "source": [
    "a = int(input(\"Enter the value for a\"))\n",
    "b = int(input(\"Enter the value for b\"))\n",
    "try:\n",
    "    print(a/b)\n",
    "except Exception as e:\n",
    "    print(\"The excpetion is handled here \", e)\n",
    "else:\n",
    "    print(\"The program executed without any exception\")\n",
    "finally:\n",
    "    print(\"If exception or not an exception this block will exceute\")"
   ]
  },
  {
   "cell_type": "code",
   "execution_count": 1,
   "id": "fb631930",
   "metadata": {},
   "outputs": [],
   "source": [
    "\n",
    "\n",
    "class validate(Exception):\n",
    "    def __init__(self,msg):\n",
    "        self.msg =msg\n",
    "        \n",
    "    "
   ]
  },
  {
   "cell_type": "code",
   "execution_count": 4,
   "id": "9c9d0323",
   "metadata": {},
   "outputs": [],
   "source": [
    "def validate_the_divisor(val):\n",
    "    if val <= 0:\n",
    "        raise validate(\"The value of divisor is never a 0\")\n",
    "    else:\n",
    "        print(\"age is valid\" )\n",
    "    "
   ]
  },
  {
   "cell_type": "code",
   "execution_count": 5,
   "id": "e03fb84b",
   "metadata": {},
   "outputs": [
    {
     "name": "stdout",
     "output_type": "stream",
     "text": [
      "Enter the value for a1\n",
      "Enter the value for b0\n",
      "The value of divisor is never a 0\n"
     ]
    }
   ],
   "source": [
    "\n",
    "try:\n",
    "    a = int(input(\"Enter the value for a\"))\n",
    "    b = int(input(\"Enter the value for b\"))\n",
    "    validate_the_divisor(b)\n",
    "    print(a/b)\n",
    "except validate as e:\n",
    "    print(e)"
   ]
  },
  {
   "cell_type": "markdown",
   "id": "970f0a9f",
   "metadata": {},
   "source": [
    "Q5. What are Custom Exceptions in python? Why do we need Custom Exceptions? Explain with an example.\n",
    "\n",
    "\n",
    "Q6. Create a custom exception class. Use this class to handle an exception.\n",
    " \n",
    " custom exception allow you to define your own error conditions and handle them in a more specific and meaningful \n",
    " \n",
    " custom exceptions will add information about project-related problems"
   ]
  },
  {
   "cell_type": "code",
   "execution_count": 6,
   "id": "cf2d82f6",
   "metadata": {},
   "outputs": [],
   "source": [
    "class validateage(Exception) : \n",
    "    def __init__(self, msg) :\n",
    "        self.msg = msg\n",
    "    "
   ]
  },
  {
   "cell_type": "code",
   "execution_count": 7,
   "id": "464cb7cc",
   "metadata": {},
   "outputs": [],
   "source": [
    "def validate_age(age) : \n",
    "    if age < 0 : \n",
    "        raise validateage(\"age should not be lesser then zeor \" )\n",
    "    elif age > 200 : \n",
    "        raise validateage(\"age is too high \" )\n",
    "        \n",
    "    else :\n",
    "        print(\"age is valid\" )"
   ]
  },
  {
   "cell_type": "code",
   "execution_count": 8,
   "id": "4bde4551",
   "metadata": {},
   "outputs": [
    {
     "name": "stdout",
     "output_type": "stream",
     "text": [
      "enter your age2\n",
      "age is valid\n"
     ]
    }
   ],
   "source": [
    "try : \n",
    "    age = int(input(\"enter your age\"))\n",
    "    validate_age(age)\n",
    "except validateage as e : \n",
    "    print(e)"
   ]
  },
  {
   "cell_type": "code",
   "execution_count": null,
   "id": "ae7c75a8",
   "metadata": {},
   "outputs": [],
   "source": []
  }
 ],
 "metadata": {
  "kernelspec": {
   "display_name": "Python 3 (ipykernel)",
   "language": "python",
   "name": "python3"
  },
  "language_info": {
   "codemirror_mode": {
    "name": "ipython",
    "version": 3
   },
   "file_extension": ".py",
   "mimetype": "text/x-python",
   "name": "python",
   "nbconvert_exporter": "python",
   "pygments_lexer": "ipython3",
   "version": "3.11.5"
  }
 },
 "nbformat": 4,
 "nbformat_minor": 5
}
