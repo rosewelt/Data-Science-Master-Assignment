{
 "cells": [
  {
   "cell_type": "markdown",
   "id": "f1fee0be",
   "metadata": {},
   "source": [
    "Q1, Create a vehicle class with an init method having instance variables as name_of_vehicle, max_speed\n",
    "and average_of_vehicle."
   ]
  },
  {
   "cell_type": "code",
   "execution_count": 6,
   "id": "35ee7eec",
   "metadata": {},
   "outputs": [],
   "source": [
    "class vehicle:      \n",
    "    def __init__(self,name_of_vehicle,max_speed,average_of_vehicle):\n",
    "        self.name_of_vehicle = name_of_vehicle\n",
    "        self.max_speed = max_speed\n",
    "        self.average_of_vehicle = average_of_vehicle    \n",
    "    def seating_capacity(self,capacity):\n",
    "        \n",
    "        return f\"The seating capacity of a {self.name_of_vehicle} is {capacity} passengers\""
   ]
  },
  {
   "cell_type": "markdown",
   "id": "45151684",
   "metadata": {},
   "source": [
    "Q2. Create a child class car from the vehicle class created in Que 1, which will inherit the vehicle class. Create a method named seating_capacity which takes capacity as an argument and returns the name of the vehicle and its seating capacity."
   ]
  },
  {
   "cell_type": "code",
   "execution_count": 9,
   "id": "e60f2c53",
   "metadata": {},
   "outputs": [],
   "source": [
    "class car(vehicle):\n",
    "    \n",
    "    def seating_capacity(self, capacity):\n",
    "        \n",
    "              \n",
    "        return super().seating_capacity(capacity)"
   ]
  },
  {
   "cell_type": "code",
   "execution_count": 10,
   "id": "83b2367f",
   "metadata": {},
   "outputs": [],
   "source": [
    "obj_car = car('tata',120,5)"
   ]
  },
  {
   "cell_type": "code",
   "execution_count": 11,
   "id": "b0e7ebec",
   "metadata": {},
   "outputs": [
    {
     "data": {
      "text/plain": [
       "'The seating capacity of a tata is 5 passengers'"
      ]
     },
     "execution_count": 11,
     "metadata": {},
     "output_type": "execute_result"
    }
   ],
   "source": [
    "obj_car.seating_capacity(5)"
   ]
  },
  {
   "cell_type": "markdown",
   "id": "0a4c9eee",
   "metadata": {},
   "source": [
    "Q3. What is multiple inheritance? Write a python code to demonstrate multiple inheritance.\n",
    "\n",
    "When a class is derived from more than one base class it is called multiple Inheritance. "
   ]
  },
  {
   "cell_type": "code",
   "execution_count": 19,
   "id": "4feaed8e",
   "metadata": {},
   "outputs": [],
   "source": [
    "class base1:\n",
    "    def fun1(self):\n",
    "        print(\"hi\")\n",
    "class base2:\n",
    "    def fun2(self):\n",
    "        print(\"hi\")\n",
    "class derived(base1,base2):\n",
    "    def fun3(self):\n",
    "        print(\"hi\")"
   ]
  },
  {
   "cell_type": "code",
   "execution_count": 20,
   "id": "5c1fcf70",
   "metadata": {},
   "outputs": [],
   "source": [
    "der_obj = derived()"
   ]
  },
  {
   "cell_type": "code",
   "execution_count": 21,
   "id": "60590b23",
   "metadata": {},
   "outputs": [
    {
     "name": "stdout",
     "output_type": "stream",
     "text": [
      "hi\n",
      "hi\n",
      "hi\n"
     ]
    }
   ],
   "source": [
    "der_obj.fun1()\n",
    "der_obj.fun2()\n",
    "der_obj.fun3()"
   ]
  },
  {
   "cell_type": "markdown",
   "id": "227e3d91",
   "metadata": {},
   "source": [
    "Q4. What are getter and setter in python? Create a class and create a getter and a setter method in this\n",
    "class.\n",
    "\n",
    "Getter: A method that allows you to access an attribute in a given class\n",
    "\n",
    "Setter: A method that allows you to set or mutate the value of an attribute in a class"
   ]
  },
  {
   "cell_type": "code",
   "execution_count": 44,
   "id": "7ef51243",
   "metadata": {},
   "outputs": [],
   "source": [
    "class class1:\n",
    "    def __init__(self,sname,smobile):\n",
    "        self.sname = sname\n",
    "        self.__smobile = smobile\n",
    "        \n",
    "    @property\n",
    "    def mobile_number(self):\n",
    "        return self.__smobile\n",
    "    \n",
    "    @mobile_number.setter\n",
    "    def mobile_update(self, anumber):\n",
    "        self.__smobile = anumber\n",
    "        \n",
    "    \n",
    "        "
   ]
  },
  {
   "cell_type": "code",
   "execution_count": 45,
   "id": "b9bde8e6",
   "metadata": {},
   "outputs": [],
   "source": [
    "obj = class1(\"sudh\", 4578578)"
   ]
  },
  {
   "cell_type": "code",
   "execution_count": 47,
   "id": "eabc7fce",
   "metadata": {},
   "outputs": [
    {
     "data": {
      "text/plain": [
       "4578578"
      ]
     },
     "execution_count": 47,
     "metadata": {},
     "output_type": "execute_result"
    }
   ],
   "source": [
    "obj.mobile_number"
   ]
  },
  {
   "cell_type": "code",
   "execution_count": 52,
   "id": "2fe85ba6",
   "metadata": {},
   "outputs": [],
   "source": [
    "obj.mobile_update = 91594785698"
   ]
  },
  {
   "cell_type": "code",
   "execution_count": 54,
   "id": "d7af67b1",
   "metadata": {},
   "outputs": [
    {
     "data": {
      "text/plain": [
       "91594785698"
      ]
     },
     "execution_count": 54,
     "metadata": {},
     "output_type": "execute_result"
    }
   ],
   "source": [
    "obj._class1__smobile"
   ]
  },
  {
   "cell_type": "markdown",
   "id": "6303f3e7",
   "metadata": {},
   "source": [
    "Q5.What is method overriding in python? Write a python code to demonstrate method overriding.\n",
    "\n",
    " In Python method overriding occurs simply defining in the child class a method with the same name of a method in the parent class."
   ]
  },
  {
   "cell_type": "code",
   "execution_count": 57,
   "id": "34be2dbe",
   "metadata": {},
   "outputs": [],
   "source": [
    "class base:\n",
    "    def show(self):\n",
    "        print('This is show method from base class')\n",
    "class derived(base):\n",
    "    def show(self):\n",
    "        print('This is show method from derived class')"
   ]
  },
  {
   "cell_type": "code",
   "execution_count": 58,
   "id": "6ebdf0ec",
   "metadata": {},
   "outputs": [
    {
     "name": "stdout",
     "output_type": "stream",
     "text": [
      "This is show method from base class\n",
      "This is show method from derived class\n"
     ]
    }
   ],
   "source": [
    "obj1 = base()\n",
    "obj2 = derived()\n",
    "obj1.show()\n",
    "obj2.show()"
   ]
  },
  {
   "cell_type": "code",
   "execution_count": null,
   "id": "b657636d",
   "metadata": {},
   "outputs": [],
   "source": []
  }
 ],
 "metadata": {
  "kernelspec": {
   "display_name": "Python 3 (ipykernel)",
   "language": "python",
   "name": "python3"
  },
  "language_info": {
   "codemirror_mode": {
    "name": "ipython",
    "version": 3
   },
   "file_extension": ".py",
   "mimetype": "text/x-python",
   "name": "python",
   "nbconvert_exporter": "python",
   "pygments_lexer": "ipython3",
   "version": "3.11.5"
  }
 },
 "nbformat": 4,
 "nbformat_minor": 5
}
