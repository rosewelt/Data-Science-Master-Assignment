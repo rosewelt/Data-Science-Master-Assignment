{
 "cells": [
  {
   "cell_type": "code",
   "execution_count": 143,
   "id": "ae9477f0",
   "metadata": {},
   "outputs": [],
   "source": [
    "import numpy as np\n",
    "list_ = [ '1' , '2' , '3' , '4' , '5' ]\n",
    "array_list = np.array(object = list_)"
   ]
  },
  {
   "cell_type": "markdown",
   "id": "5ba8332c",
   "metadata": {},
   "source": [
    "Q1. Is there any difference in the data type of variables list_ and array_list? If there is then write a code\n",
    "to print the data types of both the variables."
   ]
  },
  {
   "cell_type": "code",
   "execution_count": 146,
   "id": "6da2db24",
   "metadata": {},
   "outputs": [
    {
     "name": "stdout",
     "output_type": "stream",
     "text": [
      "The data type of list_ is <class 'list'>\n"
     ]
    }
   ],
   "source": [
    "print('The data type of list_ is {}'.format(type(list_)))"
   ]
  },
  {
   "cell_type": "code",
   "execution_count": 147,
   "id": "2893a267",
   "metadata": {},
   "outputs": [
    {
     "name": "stdout",
     "output_type": "stream",
     "text": [
      "The data type of list_ is <class 'numpy.ndarray'>\n"
     ]
    }
   ],
   "source": [
    "print('The data type of list_ is {}'.format(type(array_list)))"
   ]
  },
  {
   "cell_type": "markdown",
   "id": "a4e0c002",
   "metadata": {},
   "source": [
    "Q2. Write a code to print the data type of each and every element of both the variables list_ and\n",
    "arra_list."
   ]
  },
  {
   "cell_type": "code",
   "execution_count": 172,
   "id": "62f80fb1",
   "metadata": {},
   "outputs": [
    {
     "name": "stdout",
     "output_type": "stream",
     "text": [
      "The data type of list element 1 is <class 'list'> and array_list is <class 'numpy.ndarray'>\n",
      "The data type of list element 2 is <class 'list'> and array_list is <class 'numpy.ndarray'>\n",
      "The data type of list element 3 is <class 'list'> and array_list is <class 'numpy.ndarray'>\n",
      "The data type of list element 4 is <class 'list'> and array_list is <class 'numpy.ndarray'>\n",
      "The data type of list element 5 is <class 'list'> and array_list is <class 'numpy.ndarray'>\n"
     ]
    }
   ],
   "source": [
    "for i in list_:\n",
    "    print(\"The data type of list element {three} is {one} and array_list is {two}\".format(one=type(list_),two=type(array_list),three=i))"
   ]
  },
  {
   "cell_type": "markdown",
   "id": "a4316a28",
   "metadata": {},
   "source": [
    "Q3. Considering the following changes in the variable, array_list:\n",
    "array_list = np.array(object = list_, dtype = int)\n",
    "Will there be any difference in the data type of the elements present in both the variables, list_ and\n",
    "arra_list? If so then print the data types of each and every element present in both the variables, list_\n",
    "and arra_list."
   ]
  },
  {
   "cell_type": "code",
   "execution_count": 173,
   "id": "efe4acf1",
   "metadata": {},
   "outputs": [],
   "source": [
    "array_list = np.array(object = list_, dtype = int)"
   ]
  },
  {
   "cell_type": "code",
   "execution_count": 176,
   "id": "27b88716",
   "metadata": {},
   "outputs": [
    {
     "name": "stdout",
     "output_type": "stream",
     "text": [
      "The data type of list_ is <class 'list'>\n",
      "The data type of list_ is <class 'numpy.ndarray'>\n"
     ]
    }
   ],
   "source": [
    "print('The data type of list_ is {}'.format(type(list_)))\n",
    "print('The data type of list_ is {}'.format(type(array_list)))"
   ]
  },
  {
   "cell_type": "code",
   "execution_count": 190,
   "id": "c4f6612f",
   "metadata": {},
   "outputs": [
    {
     "name": "stdout",
     "output_type": "stream",
     "text": [
      "The data type of list element 1 is <class 'str'> and array_list is <class 'numpy.int32'>\n",
      "The data type of list element 2 is <class 'str'> and array_list is <class 'numpy.int32'>\n",
      "The data type of list element 3 is <class 'str'> and array_list is <class 'numpy.int32'>\n",
      "The data type of list element 4 is <class 'str'> and array_list is <class 'numpy.int32'>\n",
      "The data type of list element 5 is <class 'str'> and array_list is <class 'numpy.int32'>\n"
     ]
    }
   ],
   "source": [
    "for i in list_:\n",
    "    i = int(i)\n",
    "    print(\"The data type of list element {three} is {one} and array_list is {two}\".format(one=type(list_[int(i)-1]),two=type(array_list[int(i)-1]),three=list_[int(i)-1]))"
   ]
  },
  {
   "cell_type": "markdown",
   "id": "46fd2efb",
   "metadata": {},
   "source": [
    "Consider the below code to answer further questions:\n",
    "import numpy as np\n",
    "num_list = [ [ 1 , 2 , 3 ] , [ 4 , 5 , 6 ] ]\n",
    "num_array = np.array(object = num_list)\n",
    "Q4. Write a code to find the following characteristics of variable, num_array:\n",
    "(i) shape\n",
    "(ii) size"
   ]
  },
  {
   "cell_type": "code",
   "execution_count": 191,
   "id": "35492bc1",
   "metadata": {},
   "outputs": [],
   "source": [
    "import numpy as np\n",
    "num_list = [ [ 1 , 2 , 3 ] , [ 4 , 5 , 6 ] ]\n",
    "num_array = np.array(object = num_list)\n"
   ]
  },
  {
   "cell_type": "code",
   "execution_count": 192,
   "id": "5b1742c0",
   "metadata": {},
   "outputs": [
    {
     "data": {
      "text/plain": [
       "(2, 3)"
      ]
     },
     "execution_count": 192,
     "metadata": {},
     "output_type": "execute_result"
    }
   ],
   "source": [
    "num_array.shape"
   ]
  },
  {
   "cell_type": "code",
   "execution_count": 193,
   "id": "90c092df",
   "metadata": {},
   "outputs": [
    {
     "data": {
      "text/plain": [
       "6"
      ]
     },
     "execution_count": 193,
     "metadata": {},
     "output_type": "execute_result"
    }
   ],
   "source": [
    "num_array.size"
   ]
  },
  {
   "cell_type": "markdown",
   "id": "49284bfd",
   "metadata": {},
   "source": [
    "Q5. Write a code to create numpy array of 3*3 matrix containing zeros only, using a numpy array\n",
    "creation function.\n",
    "[Hint: The size of the array will be 9 and the shape will be (3,3).]"
   ]
  },
  {
   "cell_type": "code",
   "execution_count": 199,
   "id": "2a7e4b7e",
   "metadata": {},
   "outputs": [],
   "source": [
    "import numpy as np\n",
    "num_array = np.zeros((3,3))"
   ]
  },
  {
   "cell_type": "code",
   "execution_count": 200,
   "id": "10f8ba2b",
   "metadata": {},
   "outputs": [
    {
     "data": {
      "text/plain": [
       "array([[0., 0., 0.],\n",
       "       [0., 0., 0.],\n",
       "       [0., 0., 0.]])"
      ]
     },
     "execution_count": 200,
     "metadata": {},
     "output_type": "execute_result"
    }
   ],
   "source": [
    "num_array"
   ]
  },
  {
   "cell_type": "markdown",
   "id": "7bc3ddec",
   "metadata": {},
   "source": [
    "Q6. Create an identity matrix of shape (5,5) using numpy functions?\n",
    "[Hint: An identity matrix is a matrix containing 1 diagonally and other elements will be 0.]"
   ]
  },
  {
   "cell_type": "code",
   "execution_count": 202,
   "id": "b765cb13",
   "metadata": {},
   "outputs": [
    {
     "data": {
      "text/plain": [
       "array([[1., 0., 0., 0., 0.],\n",
       "       [0., 1., 0., 0., 0.],\n",
       "       [0., 0., 1., 0., 0.],\n",
       "       [0., 0., 0., 1., 0.],\n",
       "       [0., 0., 0., 0., 1.]])"
      ]
     },
     "execution_count": 202,
     "metadata": {},
     "output_type": "execute_result"
    }
   ],
   "source": [
    "import numpy as np\n",
    "num_array = np.identity(5)\n",
    "num_array"
   ]
  },
  {
   "cell_type": "code",
   "execution_count": null,
   "id": "29a44527",
   "metadata": {},
   "outputs": [],
   "source": []
  }
 ],
 "metadata": {
  "kernelspec": {
   "display_name": "Python 3 (ipykernel)",
   "language": "python",
   "name": "python3"
  },
  "language_info": {
   "codemirror_mode": {
    "name": "ipython",
    "version": 3
   },
   "file_extension": ".py",
   "mimetype": "text/x-python",
   "name": "python",
   "nbconvert_exporter": "python",
   "pygments_lexer": "ipython3",
   "version": "3.11.5"
  }
 },
 "nbformat": 4,
 "nbformat_minor": 5
}
