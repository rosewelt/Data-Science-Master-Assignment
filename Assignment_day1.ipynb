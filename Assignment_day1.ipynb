{
 "cells": [
  {
   "cell_type": "markdown",
   "id": "84f7c227-d38f-46ad-a02a-7c9e78fc0448",
   "metadata": {},
   "source": [
    "1. Who developed Python Programming language?\n",
    "\n",
    "    Guido van Rossum"
   ]
  },
  {
   "cell_type": "markdown",
   "id": "6c303982-faff-4409-974b-0269e8299854",
   "metadata": {},
   "source": [
    "2. Which type of Programming does Python support?\n",
    "   \n",
    "   Python supports object oriented, structured and function programming.\n"
   ]
  },
  {
   "cell_type": "markdown",
   "id": "f7c6ae46-344c-4ce0-991c-24b7438f16c0",
   "metadata": {},
   "source": [
    "3. Is Python case sensitive when dealing with identifiers?\n",
    "\n",
    "   Yes Python is case sensitive when dealing with identifiers."
   ]
  },
  {
   "cell_type": "markdown",
   "id": "f32f197d-3ef4-4b59-ab52-c1bc138abd7e",
   "metadata": {},
   "source": [
    "4. What is the correct extension of the Python file?\n",
    "\n",
    "   .py"
   ]
  },
  {
   "cell_type": "markdown",
   "id": "83b95854-a65c-4774-954f-6c7a9bf3ce19",
   "metadata": {},
   "source": [
    "5. Is Python code compiled or interpreted?\n",
    "\n",
    "   Python is both compiled and interpreted."
   ]
  },
  {
   "cell_type": "markdown",
   "id": "db403170-7295-427d-bfa1-b27928b2e888",
   "metadata": {},
   "source": [
    "6. Name a few blocks of code used to define in python language?\n",
    "\n",
    "   Indentation."
   ]
  },
  {
   "cell_type": "markdown",
   "id": "14651a8a-52fb-4db0-a3b5-ecc7012d3790",
   "metadata": {},
   "source": [
    "7. State a character used to give single-line comments in python?\n",
    "\n",
    "   hash symbol"
   ]
  },
  {
   "cell_type": "markdown",
   "id": "44d9d0d9-5f82-4f5b-ab10-9a5babc8dc03",
   "metadata": {},
   "source": [
    "8. Mention functions which can help us to find the version of python that we are currently working on?\n",
    "\n",
    "  \n",
    "   sys.version"
   ]
  },
  {
   "cell_type": "markdown",
   "id": "8643417c-498c-46d5-a770-c8e7b09dadff",
   "metadata": {},
   "source": [
    "9. Python supports the creation of anonymous functions at runtime, using a construct called\n",
    "\n",
    "   lambda"
   ]
  },
  {
   "cell_type": "markdown",
   "id": "9f947d59-31b7-4e0e-83ed-3fbeb4db026d",
   "metadata": {},
   "source": [
    "10. What does pip stand for python?\n",
    "\n",
    "    Preferred Installer Program"
   ]
  },
  {
   "cell_type": "markdown",
   "id": "10625ae7-9c73-4922-ac0b-50f5c6a8ba40",
   "metadata": {},
   "source": [
    "11. Mention a few built-in functions in python?\n",
    "\n",
    "    print(), type(), int(), str(), len(), max(), min()\n"
   ]
  },
  {
   "cell_type": "markdown",
   "id": "e93c7203-707d-4bb7-a28e-20a104f75f6e",
   "metadata": {},
   "source": [
    "12. What is the maximum possible length of an identifier in python?\n",
    "\n",
    "    79 characters\n"
   ]
  },
  {
   "cell_type": "markdown",
   "id": "ceead58c-2e6e-49e6-81a7-2e5aef201bf4",
   "metadata": {},
   "source": [
    "13. What are the benefits of using python?\n",
    "\n",
    "    Data Science, Web developement, Game developement, Application developement.\n"
   ]
  },
  {
   "cell_type": "markdown",
   "id": "9f70c590-7cf4-48b8-876c-ebf824f9f96e",
   "metadata": {},
   "source": [
    "14. How is memory managed in python?\n",
    "\n",
    "    Python has a private heap that stores our program’s objects and data structures. Python memory manager takes care of the bulk of the memory management."
   ]
  },
  {
   "cell_type": "markdown",
   "id": "1bc92584-9f84-4cd1-867a-036481afb19b",
   "metadata": {},
   "source": [
    "15. How is install Python on windows and set path variable?\n",
    "\n",
    "    Install python from this link https://www.python.org/downloads/\n",
    "    \n",
    "    After this, install it on your PC. Look for the location where PYTHON has been installed on your PC using the following command on your command prompt: cmd python.\n",
    "    Then go to advanced system settings and add new variable and name it as PYTHON_NAME and paste the copied path.\n",
    "    Then look for the path variable, select it's value and select edit\n",
    "    Add a semicolon towards the end of the value if it's not present and then type %PYTHON_HOME%"
   ]
  },
  {
   "cell_type": "code",
   "execution_count": null,
   "id": "7143906b-aa73-4aa5-aecb-bf5758da4612",
   "metadata": {},
   "outputs": [],
   "source": []
  }
 ],
 "metadata": {
  "kernelspec": {
   "display_name": "Python 3 (ipykernel)",
   "language": "python",
   "name": "python3"
  },
  "language_info": {
   "codemirror_mode": {
    "name": "ipython",
    "version": 3
   },
   "file_extension": ".py",
   "mimetype": "text/x-python",
   "name": "python",
   "nbconvert_exporter": "python",
   "pygments_lexer": "ipython3",
   "version": "3.10.8"
  }
 },
 "nbformat": 4,
 "nbformat_minor": 5
}
