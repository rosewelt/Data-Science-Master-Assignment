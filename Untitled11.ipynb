{
 "cells": [
  {
   "cell_type": "markdown",
   "id": "aa1d098e-e2c5-4bb0-bb54-a665296757a7",
   "metadata": {},
   "source": [
    "Q1. What is a database? Differentiate between SQL and NoSQL databases."
   ]
  },
  {
   "cell_type": "markdown",
   "id": "4f90a943-5b93-49be-bcc5-8988ea6b21ea",
   "metadata": {},
   "source": [
    "A database is an organized collection of structured information, or data, typically stored electronically in a computer system. SQL database system that uses tabular relational model to represent data and their relationship. The NoSQL database is the newer one database that provides a mechanism for storage and retrieval of data other than tabular relations model used in relational databases. "
   ]
  },
  {
   "cell_type": "markdown",
   "id": "257147da-4257-4378-a228-1568d937c9a4",
   "metadata": {},
   "source": [
    "Q2. What is DDL? Explain why CREATE, DROP, ALTER, and TRUNCATE are used with an example."
   ]
  },
  {
   "cell_type": "markdown",
   "id": "8c0c0ca8-2f4d-4c90-9833-0b82887fcbec",
   "metadata": {},
   "source": [
    "DDl stands for Data Definition Language DDL consist of Commands to commands like CREATE, ALTER, TRUNCATE and DROP. These commands are used to create or modify the tables in SQL.\n",
    "CREATE :\n",
    "This command is used to create a new table in SQL. \n",
    "\n",
    "Syntax –\n",
    "\n",
    "CREATE TABLE table_name\n",
    "(\n",
    "column_1 datatype,\n",
    "column_2 datatype,\n",
    "column_3 datatype,\n",
    "....\n",
    ");\n",
    "\n",
    "DROP :\n",
    "This command is used to remove an existing table along with its structure from the Database.\n",
    "\n",
    "Syntax –\n",
    "Syntax to drop an existing table.\n",
    "\n",
    "DROP TABLE table_name;\n",
    "\n",
    "ALTER :\n",
    "This command is used to add, delete or change columns in the existing table.\n",
    "\n",
    "Syntax –\n",
    "Syntax to add a column to an existing table.\n",
    "\n",
    "ALTER TABLE table_name\n",
    "ADD column_name datatype;\n",
    "\n",
    "TRUNCATE :\n",
    "This command is used to remove all rows from the table, but the structure of the table still exists.\n",
    "\n",
    "Syntax –\n",
    "Syntax to remove an existing table.\n",
    "\n",
    "TRUNCATE TABLE table_name;"
   ]
  },
  {
   "cell_type": "markdown",
   "id": "f2c5297f-2d13-4d4f-b63e-7cfd720ab5ac",
   "metadata": {},
   "source": [
    "Q3. What is DML? Explain INSERT, UPDATE, and DELETE with an example."
   ]
  },
  {
   "cell_type": "markdown",
   "id": "a6db443a-00a7-4cd1-87c1-24284b688bb0",
   "metadata": {},
   "source": [
    "DML or Data Manipulation Language commands deal with the manipulation of data present in the database.\n",
    "\n",
    "INSERT\n",
    "\n",
    "Insert command is used to insert data into a table.\n",
    "\n",
    "The syntax for insert command is as follows −\n",
    "\n",
    "Syntax\n",
    "\n",
    "Insert into <table_name> (column list) values (column values);\n",
    "\n",
    "UPDATE\n",
    "\n",
    "Update command is used to update existing data within a table.\n",
    "\n",
    "The syntax for the update command is as follows -\n",
    "\n",
    "Syntax\n",
    "\n",
    "UPDATE <table_name> SET column_number =value_number WHERE condition;\n",
    "\n",
    "DELETE\n",
    "\n",
    "Delete command is used to delete records from a database table.\n",
    "\n",
    "The syntax for the delete command is as follows -\n",
    "\n",
    "Syntax\n",
    "\n",
    " Delete from <table_name>WHERE condition;"
   ]
  },
  {
   "cell_type": "markdown",
   "id": "27b4f816-d233-49c4-aa07-15724fb13fbd",
   "metadata": {},
   "source": [
    "Q4. What is DQL? Explain SELECT with an example."
   ]
  },
  {
   "cell_type": "markdown",
   "id": "4f7f1b9b-9446-47f9-949e-fe8a56f6261f",
   "metadata": {},
   "source": [
    "DQL is a portion of a SQL statement that allows you to get and organise data from a database.\n",
    "\n",
    "Syntax\n",
    "\n",
    "SELECT expression FROM table_x WHERE code_conditions;\n",
    "Example\n",
    "\n",
    "SELECT Stu_Name FROM Student WHERE Phone = 9039462908;"
   ]
  },
  {
   "cell_type": "markdown",
   "id": "0d2d2b46-5338-4da8-ae81-a4784b56ea64",
   "metadata": {},
   "source": [
    "Q5. Explain Primary Key and Foreign Key."
   ]
  },
  {
   "cell_type": "markdown",
   "id": "1154ac10-f7ec-48c1-a5e5-52c2a8156d13",
   "metadata": {},
   "source": [
    "Primary keys\n",
    "    A primary key is a column or a set of columns in a table whose values uniquely identify a row in the table. A relational database is designed to enforce the uniqueness of primary keys by allowing only one row with a given primary key value in a table.\n",
    "\n",
    "Foreign keys\n",
    "    A foreign key is a column or a set of columns in a table whose values correspond to the values of the primary key in another table. In order to add a row with a given foreign key value, there must exist a row in the related table with the same primary key value. "
   ]
  },
  {
   "cell_type": "markdown",
   "id": "cf052fd5-9f00-4b7b-b3f8-db5bc10415a1",
   "metadata": {},
   "source": [
    "Q6. Write a python code to connect MySQL to python. Explain the cursor() and execute() method."
   ]
  },
  {
   "cell_type": "code",
   "execution_count": null,
   "id": "2495f599-3f5d-4c5f-9793-5320c58e540c",
   "metadata": {},
   "outputs": [],
   "source": [
    "import mysql.connector\n",
    "mydb = mysql.connector.connect(\n",
    "  host=\"localhost\",\n",
    "  user=\"abc\",\n",
    "  password=\"password\"\n",
    ")\n",
    "print(mydb)\n",
    "mycursor = mydb.cursor()\n",
    "mycursor.execute(\"SHOW DATABASES\")\n",
    "for x in mycursor:\n",
    "  print(x)"
   ]
  },
  {
   "cell_type": "markdown",
   "id": "b0be3a3f-c722-4e9f-9fa6-a2a3271d695b",
   "metadata": {},
   "source": [
    "A cursor is an object which helps to execute the query and fetch the records from the database. The cursor plays a very important role in executing the query. \n",
    "The execute () method helps us to execute the query and return records according to the query. "
   ]
  },
  {
   "cell_type": "markdown",
   "id": "595d3ddd-17bb-4a4e-a852-338ffec5c133",
   "metadata": {},
   "source": [
    "Q7. Give the order of execution of SQL clauses in an SQL query."
   ]
  },
  {
   "cell_type": "code",
   "execution_count": null,
   "id": "8db451dd-01c4-4c4a-b2c8-1f8f2ad5afef",
   "metadata": {},
   "outputs": [],
   "source": []
  }
 ],
 "metadata": {
  "kernelspec": {
   "display_name": "Python 3 (ipykernel)",
   "language": "python",
   "name": "python3"
  },
  "language_info": {
   "codemirror_mode": {
    "name": "ipython",
    "version": 3
   },
   "file_extension": ".py",
   "mimetype": "text/x-python",
   "name": "python",
   "nbconvert_exporter": "python",
   "pygments_lexer": "ipython3",
   "version": "3.10.8"
  }
 },
 "nbformat": 4,
 "nbformat_minor": 5
}
