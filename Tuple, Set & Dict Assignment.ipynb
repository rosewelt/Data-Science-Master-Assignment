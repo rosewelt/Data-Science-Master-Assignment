{
 "cells": [
  {
   "cell_type": "markdown",
   "id": "40a7a7d0-7648-4c8c-b78c-af6bea56fd62",
   "metadata": {},
   "source": [
    "Q1. What are the characteristics of the tuples? Is tuple immutable?\n",
    "    Tuple items are ordered, unchangeable, and allow duplicate values. Tuple items are indexed. Yes tuple is immutable"
   ]
  },
  {
   "cell_type": "markdown",
   "id": "6c77777e-5b3c-4c8d-b773-b5c0f89b0c41",
   "metadata": {},
   "source": [
    "Q2. What are the two tuple methods in python? Give an example of each method. Give a reason why tuples have only two in-built methods as compared to Lists.\n",
    "    There are two methods in tuple.\n",
    "    1. count()\n",
    "    2. index()\n",
    "    \n",
    "    Example\n",
    "    t=(1,2,3)\n",
    "    t.count(1)\n",
    "    t.index(1)\n",
    "    \n",
    "    tuple has only two methods compared to list since tuples are immutable"
   ]
  },
  {
   "cell_type": "markdown",
   "id": "ce3401f1-9913-403b-81e3-739b8b0337fc",
   "metadata": {},
   "source": [
    "Q3. Which collection datatypes in python do not allow duplicate items? Write a code using a set to remove duplicates from the given list.\n",
    "    List = [1, 1, 1, 2, 1, 3, 1, 4, 2, 1, 2, 2, 2, 3, 2, 4, 3, 1, 3, 2, 3, 3, 3, 4, 4, 1, 4, 2, 4, 3, 4, 4]\n",
    "    set do not allow duplicate items.\n",
    "   "
   ]
  },
  {
   "cell_type": "code",
   "execution_count": 8,
   "id": "ad150b0b-bd67-4a18-93ba-84845a8f5a8c",
   "metadata": {},
   "outputs": [
    {
     "data": {
      "text/plain": [
       "{1, 2, 3, 4}"
      ]
     },
     "execution_count": 8,
     "metadata": {},
     "output_type": "execute_result"
    }
   ],
   "source": [
    "List = [1, 1, 1, 2, 1, 3, 1, 4, 2, 1, 2, 2, 2, 3, 2, 4, 3, 1, 3, 2, 3, 3, 3, 4, 4, 1, 4, 2, 4, 3, 4, 4]\n",
    "set(List)"
   ]
  },
  {
   "cell_type": "markdown",
   "id": "2468350e-64c5-4d5d-aa33-198be5980152",
   "metadata": {},
   "source": [
    "Q4. Explain the difference between the union() and update() methods for a set. Give an example of each method.\n",
    "    union ->Return the union of sets as a new set.\n",
    "    update -> Update a set with the union of itself and others."
   ]
  },
  {
   "cell_type": "code",
   "execution_count": 12,
   "id": "bf8bf665-77c6-476f-bc4f-b9331a743d09",
   "metadata": {},
   "outputs": [
    {
     "data": {
      "text/plain": [
       "{1, 2, 3, 4, 5, 6, 7}"
      ]
     },
     "execution_count": 12,
     "metadata": {},
     "output_type": "execute_result"
    }
   ],
   "source": [
    "set1={1,2,3,4}\n",
    "set2={4,5,6,7}\n",
    "set1.union(set2)"
   ]
  },
  {
   "cell_type": "code",
   "execution_count": 13,
   "id": "8c4c0543-994a-42e8-a540-e02bc553b39e",
   "metadata": {},
   "outputs": [
    {
     "data": {
      "text/plain": [
       "{1, 2, 3, 4}"
      ]
     },
     "execution_count": 13,
     "metadata": {},
     "output_type": "execute_result"
    }
   ],
   "source": [
    "set1"
   ]
  },
  {
   "cell_type": "code",
   "execution_count": 10,
   "id": "750cfb88-0e83-4b87-b227-fe1e76fd2483",
   "metadata": {},
   "outputs": [],
   "source": [
    "set1.update(set2)"
   ]
  },
  {
   "cell_type": "code",
   "execution_count": 11,
   "id": "5c570214-b1b2-4877-a508-f401b949e850",
   "metadata": {},
   "outputs": [
    {
     "data": {
      "text/plain": [
       "{1, 2, 3, 4, 5, 6, 7}"
      ]
     },
     "execution_count": 11,
     "metadata": {},
     "output_type": "execute_result"
    }
   ],
   "source": [
    "set1"
   ]
  },
  {
   "cell_type": "markdown",
   "id": "2ecede4b-f3d5-4963-b25a-01973e656d39",
   "metadata": {},
   "source": [
    "Q5. What is a dictionary? Give an example. Also, state whether a dictionary is ordered or unordered.\n",
    "    dictinary is a collection with key value pair and dictionary is unordered since we cant able to access dictionary with index"
   ]
  },
  {
   "cell_type": "code",
   "execution_count": 15,
   "id": "a47a0ec4-704f-4f22-8fd0-cbee9d4733e4",
   "metadata": {},
   "outputs": [],
   "source": [
    "dict1={\"key1\":\"value1\",\"key2\":123,\"key3\":(1,2,3)}"
   ]
  },
  {
   "cell_type": "code",
   "execution_count": 16,
   "id": "477635c1-c848-469b-b5c3-6e5dcd2d9af4",
   "metadata": {},
   "outputs": [
    {
     "data": {
      "text/plain": [
       "{'key1': 'value1', 'key2': 123, 'key3': (1, 2, 3)}"
      ]
     },
     "execution_count": 16,
     "metadata": {},
     "output_type": "execute_result"
    }
   ],
   "source": [
    "dict1"
   ]
  },
  {
   "cell_type": "code",
   "execution_count": 33,
   "id": "51437b72-1598-4b49-ac13-0ed065501bbc",
   "metadata": {},
   "outputs": [
    {
     "data": {
      "text/plain": [
       "dict_keys(['key1', 'key2', 'key3'])"
      ]
     },
     "execution_count": 33,
     "metadata": {},
     "output_type": "execute_result"
    }
   ],
   "source": [
    "dict1.keys()\n"
   ]
  },
  {
   "cell_type": "code",
   "execution_count": 34,
   "id": "0e56a317-f448-466d-b7a2-ad0fd7adff6c",
   "metadata": {},
   "outputs": [
    {
     "data": {
      "text/plain": [
       "dict_items([('key1', 'value1'), ('key2', 123), ('key3', (1, 2, 3))])"
      ]
     },
     "execution_count": 34,
     "metadata": {},
     "output_type": "execute_result"
    }
   ],
   "source": [
    "dict1.items()"
   ]
  },
  {
   "cell_type": "code",
   "execution_count": 35,
   "id": "0289b4aa-ea06-435b-a40c-2c865d0bd1e9",
   "metadata": {},
   "outputs": [
    {
     "data": {
      "text/plain": [
       "dict_values(['value1', 123, (1, 2, 3)])"
      ]
     },
     "execution_count": 35,
     "metadata": {},
     "output_type": "execute_result"
    }
   ],
   "source": [
    "dict1.values()"
   ]
  },
  {
   "cell_type": "markdown",
   "id": "f29d4763-d6c4-40cf-a69b-6510f0f30b93",
   "metadata": {},
   "source": [
    "Q6. Can we create a nested dictionary? If so, please give an example by creating a simple one-level nested dictionary.\n",
    "\n",
    "    Yes we can create nested dictionary."
   ]
  },
  {
   "cell_type": "code",
   "execution_count": 36,
   "id": "e50ca289-da5c-4bf1-8fc2-4011ffbe757f",
   "metadata": {},
   "outputs": [],
   "source": [
    "dict2={\"k1\":\"v1\",\"k2\":{\"k11\":\"v11\",\"k12\":\"v12\"}}"
   ]
  },
  {
   "cell_type": "code",
   "execution_count": 37,
   "id": "33c9cba9-381d-40c4-81f5-b20247d61785",
   "metadata": {},
   "outputs": [
    {
     "data": {
      "text/plain": [
       "{'k1': 'v1', 'k2': {'k11': 'v11', 'k12': 'v12'}}"
      ]
     },
     "execution_count": 37,
     "metadata": {},
     "output_type": "execute_result"
    }
   ],
   "source": [
    "dict2"
   ]
  },
  {
   "cell_type": "markdown",
   "id": "ab0df281-ecf5-4628-838b-c69d5612916b",
   "metadata": {},
   "source": [
    "Q7. Using setdefault() method, create key named topics in the given dictionary and also add the value of the key as this list ['Python', 'Machine Learning’, 'Deep Learning']"
   ]
  },
  {
   "cell_type": "code",
   "execution_count": 59,
   "id": "435fb3b8-b881-4b10-ba4c-93cc9e421e3a",
   "metadata": {},
   "outputs": [],
   "source": [
    "dict1 = {'language' : 'Python', 'course': 'Data Science Masters'}"
   ]
  },
  {
   "cell_type": "code",
   "execution_count": 61,
   "id": "3f164991-e2bf-4a58-8d2a-593e4075693d",
   "metadata": {},
   "outputs": [],
   "source": [
    "topics = dict1.setdefault('topics')"
   ]
  },
  {
   "cell_type": "code",
   "execution_count": 62,
   "id": "35b89971-9262-49e4-8dd6-92cd4676f2b8",
   "metadata": {},
   "outputs": [
    {
     "name": "stdout",
     "output_type": "stream",
     "text": [
      "Topics : None\n"
     ]
    }
   ],
   "source": [
    "print('Topics :', topics)"
   ]
  },
  {
   "cell_type": "code",
   "execution_count": 63,
   "id": "6490f7ec-2c1b-4543-a0db-b66a761ec3ec",
   "metadata": {},
   "outputs": [],
   "source": [
    "dict1[\"topics\"]=['Python','Machine Learning','Deep Learning']"
   ]
  },
  {
   "cell_type": "code",
   "execution_count": 65,
   "id": "615b18ca-b15f-435e-8008-1760ee9be836",
   "metadata": {},
   "outputs": [],
   "source": [
    "topics = dict1.setdefault('topics')"
   ]
  },
  {
   "cell_type": "code",
   "execution_count": 66,
   "id": "03b4b332-fb68-4df0-8c7f-bb96022b3a57",
   "metadata": {},
   "outputs": [
    {
     "name": "stdout",
     "output_type": "stream",
     "text": [
      "Topics : ['Python', 'Machine Learning', 'Deep Learning']\n"
     ]
    }
   ],
   "source": [
    "print('Topics :', topics)"
   ]
  },
  {
   "cell_type": "markdown",
   "id": "7b81291c-8852-4741-8e90-fbabc46c0ad5",
   "metadata": {},
   "source": [
    "Q8. What are the three view objects in dictionaries? Use the three in-built methods in python to display these three view objects for the given dictionary.\n",
    "\n",
    "    The main view objects of dictionary in python are keys, values and items"
   ]
  },
  {
   "cell_type": "code",
   "execution_count": 67,
   "id": "557f9d66-880c-4549-98ca-4c3b8a5f4c52",
   "metadata": {},
   "outputs": [],
   "source": [
    "dict1 = {'Sport': 'Cricket' , 'Teams': ['India', 'Australia', 'England', 'South Africa', 'Sri Lanka', 'New Zealand']}"
   ]
  },
  {
   "cell_type": "code",
   "execution_count": 68,
   "id": "9f51a232-507b-41af-9f07-5c354fc9701e",
   "metadata": {},
   "outputs": [
    {
     "data": {
      "text/plain": [
       "dict_keys(['Sport', 'Teams'])"
      ]
     },
     "execution_count": 68,
     "metadata": {},
     "output_type": "execute_result"
    }
   ],
   "source": [
    "dict1.keys()"
   ]
  },
  {
   "cell_type": "code",
   "execution_count": 69,
   "id": "5cdd05e4-8ad6-4aaf-ac54-1628a62be157",
   "metadata": {},
   "outputs": [
    {
     "data": {
      "text/plain": [
       "dict_values(['Cricket', ['India', 'Australia', 'England', 'South Africa', 'Sri Lanka', 'New Zealand']])"
      ]
     },
     "execution_count": 69,
     "metadata": {},
     "output_type": "execute_result"
    }
   ],
   "source": [
    "dict1.values()"
   ]
  },
  {
   "cell_type": "code",
   "execution_count": 70,
   "id": "66f8f47e-92c6-40bc-a9e5-a1d1be3adec2",
   "metadata": {},
   "outputs": [
    {
     "data": {
      "text/plain": [
       "dict_items([('Sport', 'Cricket'), ('Teams', ['India', 'Australia', 'England', 'South Africa', 'Sri Lanka', 'New Zealand'])])"
      ]
     },
     "execution_count": 70,
     "metadata": {},
     "output_type": "execute_result"
    }
   ],
   "source": [
    "dict1.items()"
   ]
  },
  {
   "cell_type": "code",
   "execution_count": null,
   "id": "05aebf74-1a92-4c67-8c31-490835a8d2f3",
   "metadata": {},
   "outputs": [],
   "source": []
  }
 ],
 "metadata": {
  "kernelspec": {
   "display_name": "Python 3 (ipykernel)",
   "language": "python",
   "name": "python3"
  },
  "language_info": {
   "codemirror_mode": {
    "name": "ipython",
    "version": 3
   },
   "file_extension": ".py",
   "mimetype": "text/x-python",
   "name": "python",
   "nbconvert_exporter": "python",
   "pygments_lexer": "ipython3",
   "version": "3.10.8"
  }
 },
 "nbformat": 4,
 "nbformat_minor": 5
}
