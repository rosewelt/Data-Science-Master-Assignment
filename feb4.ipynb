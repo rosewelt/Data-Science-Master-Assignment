{
 "cells": [
  {
   "cell_type": "markdown",
   "id": "cf1e22ea-a64c-4178-a8ce-25e64b612f09",
   "metadata": {},
   "source": [
    "Q1. Create a python program to sort the given list of tuples based on integer value using a lambda function.\n",
    "    [('Sachin Tendulkar', 34357), ('Ricky Ponting', 27483), ('Jack Kallis', 25534), ('Virat Kohli', 24936)]"
   ]
  },
  {
   "cell_type": "code",
   "execution_count": 17,
   "id": "fd714c1f-31ee-4fcd-af4a-cd773552d6bc",
   "metadata": {},
   "outputs": [],
   "source": [
    "l = [('Sachin Tendulkar', 34357), ('Ricky Ponting', 27483), ('Jack Kallis', 25534), ('Virat Kohli', 24936)]"
   ]
  },
  {
   "cell_type": "code",
   "execution_count": 18,
   "id": "0bc5ce62-a4d5-4dc0-8a0d-ac40194db1db",
   "metadata": {},
   "outputs": [
    {
     "data": {
      "text/plain": [
       "[('Sachin Tendulkar', 34357),\n",
       " ('Ricky Ponting', 27483),\n",
       " ('Jack Kallis', 25534),\n",
       " ('Virat Kohli', 24936)]"
      ]
     },
     "execution_count": 18,
     "metadata": {},
     "output_type": "execute_result"
    }
   ],
   "source": [
    "l"
   ]
  },
  {
   "cell_type": "code",
   "execution_count": 21,
   "id": "c6dd1f4a-16d3-4a9e-88db-bf2fc3167c71",
   "metadata": {},
   "outputs": [],
   "source": [
    "newList = sorted(l, key = lambda x : x[1] ,reverse=False)"
   ]
  },
  {
   "cell_type": "code",
   "execution_count": 22,
   "id": "6525cae5-2111-427b-b14d-f3ade3c6f9ab",
   "metadata": {},
   "outputs": [
    {
     "data": {
      "text/plain": [
       "[('Virat Kohli', 24936),\n",
       " ('Jack Kallis', 25534),\n",
       " ('Ricky Ponting', 27483),\n",
       " ('Sachin Tendulkar', 34357)]"
      ]
     },
     "execution_count": 22,
     "metadata": {},
     "output_type": "execute_result"
    }
   ],
   "source": [
    "newList"
   ]
  },
  {
   "cell_type": "markdown",
   "id": "888fdca4-0278-40fb-8ec6-3e0369db85fc",
   "metadata": {},
   "source": [
    "Q2. Write a Python Program to find the squares of all the numbers in the given list of integers using lambda and map functions.\n",
    "    [1, 2, 3, 4, 5, 6, 7, 8, 9, 10]"
   ]
  },
  {
   "cell_type": "code",
   "execution_count": 50,
   "id": "a79606c6-2ef8-46c0-b6b0-32898a832f5c",
   "metadata": {},
   "outputs": [],
   "source": [
    "l1 = [1,2,3,4,5,6,7,8,9,10]"
   ]
  },
  {
   "cell_type": "code",
   "execution_count": 51,
   "id": "d484383c-a514-4f30-bc0e-48f4ded3049f",
   "metadata": {},
   "outputs": [],
   "source": [
    "square = map(lambda x : x**2 , l1)"
   ]
  },
  {
   "cell_type": "code",
   "execution_count": 52,
   "id": "4fee03a9-f830-45d9-921c-1726da307830",
   "metadata": {},
   "outputs": [
    {
     "data": {
      "text/plain": [
       "[1, 4, 9, 16, 25, 36, 49, 64, 81, 100]"
      ]
     },
     "execution_count": 52,
     "metadata": {},
     "output_type": "execute_result"
    }
   ],
   "source": [
    "list(square)"
   ]
  },
  {
   "cell_type": "markdown",
   "id": "4fa1886f-4605-4029-bef5-5a566b84c1b5",
   "metadata": {},
   "source": [
    "Q3. Write a python program using reduce function to compute the product of a list containing numbers from 1 to 25."
   ]
  },
  {
   "cell_type": "code",
   "execution_count": 65,
   "id": "ec14daf9-2438-4885-a3fd-a49abcef6e6f",
   "metadata": {},
   "outputs": [],
   "source": [
    "list2 = list(range(1,25))"
   ]
  },
  {
   "cell_type": "code",
   "execution_count": 66,
   "id": "c8e5d8fb-c07c-4263-a209-161200755189",
   "metadata": {},
   "outputs": [
    {
     "data": {
      "text/plain": [
       "[1,\n",
       " 2,\n",
       " 3,\n",
       " 4,\n",
       " 5,\n",
       " 6,\n",
       " 7,\n",
       " 8,\n",
       " 9,\n",
       " 10,\n",
       " 11,\n",
       " 12,\n",
       " 13,\n",
       " 14,\n",
       " 15,\n",
       " 16,\n",
       " 17,\n",
       " 18,\n",
       " 19,\n",
       " 20,\n",
       " 21,\n",
       " 22,\n",
       " 23,\n",
       " 24]"
      ]
     },
     "execution_count": 66,
     "metadata": {},
     "output_type": "execute_result"
    }
   ],
   "source": [
    "list2"
   ]
  },
  {
   "cell_type": "code",
   "execution_count": 69,
   "id": "7c68db69-2011-44a1-a3ee-d6c4e4844b89",
   "metadata": {},
   "outputs": [
    {
     "data": {
      "text/plain": [
       "620448401733239439360000"
      ]
     },
     "execution_count": 69,
     "metadata": {},
     "output_type": "execute_result"
    }
   ],
   "source": [
    "from functools import reduce\n",
    "reduce(lambda x,y : x*y, list2)"
   ]
  },
  {
   "cell_type": "markdown",
   "id": "22239e2e-ac4e-4b14-8630-77c587582b88",
   "metadata": {},
   "source": [
    "Q5. Write a python program to filter the numbers in a given list that are divisible by 2 and 3 using the filter function.\n",
    "    [2, 3, 6, 9, 27, 60, 90, 120, 55, 46]"
   ]
  },
  {
   "cell_type": "code",
   "execution_count": 86,
   "id": "8597ebd2-4720-4677-96ec-561f658cf15a",
   "metadata": {},
   "outputs": [],
   "source": [
    "list4 = [2,3,6,9,27,60,90,120,55,46]"
   ]
  },
  {
   "cell_type": "code",
   "execution_count": 73,
   "id": "e4510ec5-4f49-4629-b029-b3816c2e11b1",
   "metadata": {},
   "outputs": [
    {
     "data": {
      "text/plain": [
       "[2, 6, 60, 90, 120, 46]"
      ]
     },
     "execution_count": 73,
     "metadata": {},
     "output_type": "execute_result"
    }
   ],
   "source": [
    "list(filter(lambda x : x % 2 == 0, list4))"
   ]
  },
  {
   "cell_type": "code",
   "execution_count": 74,
   "id": "0afc25a7-754e-40d6-b53f-4b3021b7e304",
   "metadata": {},
   "outputs": [
    {
     "data": {
      "text/plain": [
       "[3, 6, 9, 27, 60, 90, 120]"
      ]
     },
     "execution_count": 74,
     "metadata": {},
     "output_type": "execute_result"
    }
   ],
   "source": [
    "list(filter(lambda x : x % 3 == 0, list4))"
   ]
  },
  {
   "cell_type": "code",
   "execution_count": 90,
   "id": "5974aa5a-f1f3-4ebd-b1f9-9bdb702ed4ab",
   "metadata": {},
   "outputs": [],
   "source": [
    "def divide_2_3(x):\n",
    "    if x % 2 == 0 and x % 3 == 0:\n",
    "        return x\n",
    "    "
   ]
  },
  {
   "cell_type": "code",
   "execution_count": 91,
   "id": "83efb8b6-9e7d-43be-b139-f94af7b4b6dc",
   "metadata": {},
   "outputs": [],
   "source": [
    "divide = filter(divide_2_3, list4)"
   ]
  },
  {
   "cell_type": "code",
   "execution_count": 92,
   "id": "087541e3-bf18-49ce-815c-ceb93f0ddf9b",
   "metadata": {},
   "outputs": [
    {
     "name": "stdout",
     "output_type": "stream",
     "text": [
      "6\n",
      "60\n",
      "90\n",
      "120\n"
     ]
    }
   ],
   "source": [
    "for i in divide:\n",
    "    print(i)"
   ]
  },
  {
   "cell_type": "markdown",
   "id": "bae91e92-6fc6-4946-a8ed-55df73179f01",
   "metadata": {},
   "source": [
    "Q6. Write a python program to find palindromes in the given list of strings using lambda and filter function.\n",
    "    ['python', 'php', 'aba', 'radar', 'level']"
   ]
  },
  {
   "cell_type": "code",
   "execution_count": 93,
   "id": "103fb288-b13f-42fc-b1cb-deb1a2b39318",
   "metadata": {},
   "outputs": [],
   "source": [
    "list5 = ['python', 'php', 'aba', 'radar', 'level']"
   ]
  },
  {
   "cell_type": "code",
   "execution_count": 94,
   "id": "7815a3b9-fb46-4ed8-a69c-6dca0bad614b",
   "metadata": {},
   "outputs": [
    {
     "data": {
      "text/plain": [
       "['python', 'php', 'aba', 'radar', 'level']"
      ]
     },
     "execution_count": 94,
     "metadata": {},
     "output_type": "execute_result"
    }
   ],
   "source": [
    "list5"
   ]
  },
  {
   "cell_type": "code",
   "execution_count": null,
   "id": "9ef9dd64-01cb-4268-9845-67f45f8adecf",
   "metadata": {},
   "outputs": [],
   "source": [
    "filter(lambda x : x == x"
   ]
  }
 ],
 "metadata": {
  "kernelspec": {
   "display_name": "Python 3 (ipykernel)",
   "language": "python",
   "name": "python3"
  },
  "language_info": {
   "codemirror_mode": {
    "name": "ipython",
    "version": 3
   },
   "file_extension": ".py",
   "mimetype": "text/x-python",
   "name": "python",
   "nbconvert_exporter": "python",
   "pygments_lexer": "ipython3",
   "version": "3.10.8"
  }
 },
 "nbformat": 4,
 "nbformat_minor": 5
}
