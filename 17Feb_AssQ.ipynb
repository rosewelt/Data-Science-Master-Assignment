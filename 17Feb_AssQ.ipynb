{
 "cells": [
  {
   "cell_type": "markdown",
   "id": "4faf9d65",
   "metadata": {},
   "source": [
    "Q1. What is MongoDB? Explain non-relational databases in short. In which scenarios it is preferred to use\n",
    "MongoDB over SQL databases?\n",
    "\n",
    "MongoDB is a document database with the scalability and flexibility that you want with the querying and indexing that you need.\n",
    "\n",
    "Non-relational databases (often called NoSQL databases) are different from traditional relational databases in that they store their data in a non-tabular form. Instead, non-relational databases might be based on data structures like documents. A document can be highly detailed while containing a range of different types of information in different formats.\n",
    "\n",
    "if your “data is unstructured and complex, or if you can't pre-define your schema, you'd better opt for MongoDB.”"
   ]
  },
  {
   "cell_type": "markdown",
   "id": "815bd9cb",
   "metadata": {},
   "source": [
    "Q2. State and Explain the features of MongoDB.\n",
    "\n",
    "1. Support ad hoc queries\n",
    "\n",
    "In MongoDB, you can search by field, range query and it also supports regular expression searches.\n",
    "\n",
    "2. Indexing\n",
    "\n",
    "You can index any field in a document.\n",
    "\n",
    "3. Replication\n",
    "\n",
    "MongoDB supports Master Slave replication.\n",
    "\n",
    "A master can perform Reads and Writes and a Slave copies data from the master and can only be used for reads or back up (not writes)\n",
    "\n",
    "4. Duplication of data\n",
    "\n",
    "MongoDB can run over multiple servers. The data is duplicated to keep the system up and also keep its running condition in case of hardware failure.\n",
    "\n",
    "5. Load balancing\n",
    "\n",
    "It has an automatic load balancing configuration because of data placed in shards.\n",
    "\n",
    "6. Supports map reduce and aggregation tools.\n",
    "\n",
    "7. Uses JavaScript instead of Procedures.\n",
    "\n",
    "8. It is a schema-less database written in C++.\n",
    "\n",
    "9. Provides high performance.\n",
    "\n",
    "10. Stores files of any size easily without complicating your stack.\n",
    "\n",
    "11. Easy to administer in the case of failures.\n",
    "\n",
    "12. It also supports:\n",
    "\n",
    "JSON data model with dynamic schemas\n",
    "Auto-sharding for horizontal scalability\n",
    "Built in replication for high availability"
   ]
  },
  {
   "cell_type": "markdown",
   "id": "36abd69a",
   "metadata": {},
   "source": [
    "Q3. Write a code to connect MongoDB to Python. Also, create a database and a collection in MongoDB."
   ]
  },
  {
   "cell_type": "code",
   "execution_count": 36,
   "id": "eaf7bc9f",
   "metadata": {},
   "outputs": [],
   "source": [
    "import pymongo\n",
    "\n",
    "# Create a new client and connect to the server\n",
    "client = pymongo.MongoClient(\"mongodb+srv:/fullurl/t/?retryWrites=true&w=majority\")"
   ]
  },
  {
   "cell_type": "code",
   "execution_count": 37,
   "id": "ac35e972",
   "metadata": {},
   "outputs": [],
   "source": [
    "db = client[\"mydb\"]"
   ]
  },
  {
   "cell_type": "code",
   "execution_count": 38,
   "id": "fd60d772",
   "metadata": {},
   "outputs": [],
   "source": [
    "new_column = db[\"my_collection\"]\n"
   ]
  },
  {
   "cell_type": "code",
   "execution_count": 22,
   "id": "23a495ec",
   "metadata": {},
   "outputs": [
    {
     "data": {
      "text/plain": [
       "MongoClient(host=['ac-tnwgmod-shard-00-01.wtrrbzu.mongodb.net:27017', 'ac-tnwgmod-shard-00-00.wtrrbzu.mongodb.net:27017', 'ac-tnwgmod-shard-00-02.wtrrbzu.mongodb.net:27017'], document_class=dict, tz_aware=False, connect=True, retrywrites=True, w='majority', authsource='admin', replicaset='atlas-awqgvy-shard-0', tls=True)"
      ]
     },
     "execution_count": 22,
     "metadata": {},
     "output_type": "execute_result"
    }
   ],
   "source": [
    "client"
   ]
  },
  {
   "cell_type": "code",
   "execution_count": 30,
   "id": "1a1845fb",
   "metadata": {},
   "outputs": [],
   "source": [
    "db = client['pwskills']"
   ]
  },
  {
   "cell_type": "code",
   "execution_count": 39,
   "id": "9619f6c2",
   "metadata": {},
   "outputs": [],
   "source": [
    "data = {\"name\" : \"sudh\",\n",
    "        \"class\" : \"data science masters\",\n",
    "        \"timing\" :\"flexi\"\n",
    "    \n",
    "}"
   ]
  },
  {
   "cell_type": "code",
   "execution_count": 40,
   "id": "f458af98",
   "metadata": {},
   "outputs": [
    {
     "data": {
      "text/plain": [
       "<pymongo.results.InsertOneResult at 0x2581c66d000>"
      ]
     },
     "execution_count": 40,
     "metadata": {},
     "output_type": "execute_result"
    }
   ],
   "source": [
    "new_column.insert_one(data)"
   ]
  },
  {
   "cell_type": "markdown",
   "id": "de5e14fd",
   "metadata": {},
   "source": [
    "Q4. Using the database and the collection created in question number 3, write a code to insert one record,\n",
    "and insert many records. Use the find() and find_one() methods to print the inserted record."
   ]
  },
  {
   "cell_type": "code",
   "execution_count": 41,
   "id": "83687775",
   "metadata": {},
   "outputs": [],
   "source": [
    "data = {\"name\" : \"krish\",\n",
    "        \"class\" : \"data science masters\",\n",
    "        \"timing\" :\"flexi\"\n",
    "    \n",
    "}"
   ]
  },
  {
   "cell_type": "code",
   "execution_count": 42,
   "id": "7029438c",
   "metadata": {},
   "outputs": [
    {
     "data": {
      "text/plain": [
       "<pymongo.results.InsertOneResult at 0x2581c78a5c0>"
      ]
     },
     "execution_count": 42,
     "metadata": {},
     "output_type": "execute_result"
    }
   ],
   "source": [
    "new_column.insert_one(data)"
   ]
  },
  {
   "cell_type": "code",
   "execution_count": 43,
   "id": "9120080d",
   "metadata": {},
   "outputs": [],
   "source": [
    " data3 = [\n",
    "  { \"name\": \"Amy\", \"address\": \"Apple st 652\" },\n",
    "  { \"name\": \"Hannah\", \"address\": \"Mountain 21\" },\n",
    "  { \"name\": \"Michael\", \"address\": \"Valley 345\" },\n",
    "  { \"name\": \"Sandy\", \"address\": \"Ocean blvd 2\" },\n",
    "  { \"name\": \"Betty\", \"address\": \"Green Grass 1\" },\n",
    "  { \"name\": \"Richard\", \"address\": \"Sky st 331\" },\n",
    "  { \"name\": \"Susan\", \"address\": \"One way 98\" },\n",
    "  { \"name\": \"Vicky\", \"address\": \"Yellow Garden 2\" },\n",
    "  { \"name\": \"Ben\", \"address\": \"Park Lane 38\" },\n",
    "  { \"name\": \"William\", \"address\": \"Central st 954\" },\n",
    "  { \"name\": \"Chuck\", \"address\": \"Main Road 989\" },\n",
    "  { \"name\": \"Viola\", \"address\": \"Sideway 1633\" }\n",
    "]"
   ]
  },
  {
   "cell_type": "code",
   "execution_count": 44,
   "id": "5bd43118",
   "metadata": {},
   "outputs": [
    {
     "data": {
      "text/plain": [
       "<pymongo.results.InsertManyResult at 0x2581c8b1360>"
      ]
     },
     "execution_count": 44,
     "metadata": {},
     "output_type": "execute_result"
    }
   ],
   "source": [
    "new_column.insert_many(data3)"
   ]
  },
  {
   "cell_type": "code",
   "execution_count": 46,
   "id": "565db1b3",
   "metadata": {},
   "outputs": [
    {
     "name": "stdout",
     "output_type": "stream",
     "text": [
      "{'_id': ObjectId('65363569ce7394f32cf7e0f3'), 'name': 'sudh', 'class': 'data science masters', 'timing': 'flexi'}\n",
      "{'_id': ObjectId('65363983ce7394f32cf7e0f4'), 'name': 'krish', 'class': 'data science masters', 'timing': 'flexi'}\n",
      "{'_id': ObjectId('653639cace7394f32cf7e0f5'), 'name': 'Amy', 'address': 'Apple st 652'}\n",
      "{'_id': ObjectId('653639cace7394f32cf7e0f6'), 'name': 'Hannah', 'address': 'Mountain 21'}\n",
      "{'_id': ObjectId('653639cace7394f32cf7e0f7'), 'name': 'Michael', 'address': 'Valley 345'}\n",
      "{'_id': ObjectId('653639cace7394f32cf7e0f8'), 'name': 'Sandy', 'address': 'Ocean blvd 2'}\n",
      "{'_id': ObjectId('653639cace7394f32cf7e0f9'), 'name': 'Betty', 'address': 'Green Grass 1'}\n",
      "{'_id': ObjectId('653639cace7394f32cf7e0fa'), 'name': 'Richard', 'address': 'Sky st 331'}\n",
      "{'_id': ObjectId('653639cace7394f32cf7e0fb'), 'name': 'Susan', 'address': 'One way 98'}\n",
      "{'_id': ObjectId('653639cace7394f32cf7e0fc'), 'name': 'Vicky', 'address': 'Yellow Garden 2'}\n",
      "{'_id': ObjectId('653639cace7394f32cf7e0fd'), 'name': 'Ben', 'address': 'Park Lane 38'}\n",
      "{'_id': ObjectId('653639cace7394f32cf7e0fe'), 'name': 'William', 'address': 'Central st 954'}\n",
      "{'_id': ObjectId('653639cace7394f32cf7e0ff'), 'name': 'Chuck', 'address': 'Main Road 989'}\n",
      "{'_id': ObjectId('653639cace7394f32cf7e100'), 'name': 'Viola', 'address': 'Sideway 1633'}\n"
     ]
    }
   ],
   "source": [
    "for i in new_column.find():\n",
    "    print(i)"
   ]
  },
  {
   "cell_type": "code",
   "execution_count": 53,
   "id": "fbe86cbb",
   "metadata": {},
   "outputs": [
    {
     "data": {
      "text/plain": [
       "{'_id': ObjectId('65363569ce7394f32cf7e0f3'),\n",
       " 'name': 'sudh',\n",
       " 'class': 'data science masters',\n",
       " 'timing': 'flexi'}"
      ]
     },
     "execution_count": 53,
     "metadata": {},
     "output_type": "execute_result"
    }
   ],
   "source": [
    "new_column.find_one({'class' : {'$eq' : 'data science masters'}})"
   ]
  },
  {
   "cell_type": "markdown",
   "id": "5e402142",
   "metadata": {},
   "source": [
    "Q5. Explain how you can use the find() method to query the MongoDB database. Write a simple code to\n",
    "demonstrate this.\n",
    "\n",
    "In MongoDB, find() method is used to select documents in a collection and return a cursor to the selected documents. Cursor means a pointer that points to a document, when we use find() method it returns a pointer on the selected documents and returns one by one"
   ]
  },
  {
   "cell_type": "code",
   "execution_count": 54,
   "id": "10751b0b",
   "metadata": {},
   "outputs": [
    {
     "name": "stdout",
     "output_type": "stream",
     "text": [
      "{'_id': ObjectId('65363569ce7394f32cf7e0f3'), 'name': 'sudh', 'class': 'data science masters', 'timing': 'flexi'}\n",
      "{'_id': ObjectId('65363983ce7394f32cf7e0f4'), 'name': 'krish', 'class': 'data science masters', 'timing': 'flexi'}\n",
      "{'_id': ObjectId('653639cace7394f32cf7e0f5'), 'name': 'Amy', 'address': 'Apple st 652'}\n",
      "{'_id': ObjectId('653639cace7394f32cf7e0f6'), 'name': 'Hannah', 'address': 'Mountain 21'}\n",
      "{'_id': ObjectId('653639cace7394f32cf7e0f7'), 'name': 'Michael', 'address': 'Valley 345'}\n",
      "{'_id': ObjectId('653639cace7394f32cf7e0f8'), 'name': 'Sandy', 'address': 'Ocean blvd 2'}\n",
      "{'_id': ObjectId('653639cace7394f32cf7e0f9'), 'name': 'Betty', 'address': 'Green Grass 1'}\n",
      "{'_id': ObjectId('653639cace7394f32cf7e0fa'), 'name': 'Richard', 'address': 'Sky st 331'}\n",
      "{'_id': ObjectId('653639cace7394f32cf7e0fb'), 'name': 'Susan', 'address': 'One way 98'}\n",
      "{'_id': ObjectId('653639cace7394f32cf7e0fc'), 'name': 'Vicky', 'address': 'Yellow Garden 2'}\n",
      "{'_id': ObjectId('653639cace7394f32cf7e0fd'), 'name': 'Ben', 'address': 'Park Lane 38'}\n",
      "{'_id': ObjectId('653639cace7394f32cf7e0fe'), 'name': 'William', 'address': 'Central st 954'}\n",
      "{'_id': ObjectId('653639cace7394f32cf7e0ff'), 'name': 'Chuck', 'address': 'Main Road 989'}\n",
      "{'_id': ObjectId('653639cace7394f32cf7e100'), 'name': 'Viola', 'address': 'Sideway 1633'}\n"
     ]
    }
   ],
   "source": [
    "for i in new_column.find():\n",
    "    print(i)"
   ]
  },
  {
   "cell_type": "code",
   "execution_count": 55,
   "id": "94146b15",
   "metadata": {},
   "outputs": [
    {
     "name": "stdout",
     "output_type": "stream",
     "text": [
      "{'_id': ObjectId('65363569ce7394f32cf7e0f3'), 'name': 'sudh', 'class': 'data science masters', 'timing': 'flexi'}\n",
      "{'_id': ObjectId('65363983ce7394f32cf7e0f4'), 'name': 'krish', 'class': 'data science masters', 'timing': 'flexi'}\n"
     ]
    }
   ],
   "source": [
    "for i in new_column.find({'class' : {'$eq' : 'data science masters'}}):\n",
    "    print(i)"
   ]
  },
  {
   "cell_type": "code",
   "execution_count": 59,
   "id": "3be4a857",
   "metadata": {},
   "outputs": [
    {
     "name": "stdout",
     "output_type": "stream",
     "text": [
      "{'_id': ObjectId('653639cace7394f32cf7e0f6'), 'name': 'Hannah', 'address': 'Mountain 21'}\n"
     ]
    }
   ],
   "source": [
    "for i in new_column.find({'address': 'Mountain 21'}):\n",
    "    print(i)"
   ]
  },
  {
   "cell_type": "markdown",
   "id": "b41c7a50",
   "metadata": {},
   "source": [
    "Q6. Explain the sort() method. Give an example to demonstrate sorting in MongoDB."
   ]
  },
  {
   "cell_type": "code",
   "execution_count": 82,
   "id": "3cc71331",
   "metadata": {},
   "outputs": [
    {
     "name": "stdout",
     "output_type": "stream",
     "text": [
      "{'_id': ObjectId('653639cace7394f32cf7e0fd'), 'name': 'Ben', 'address': 'Park Lane 38'}\n",
      "{'_id': ObjectId('653639cace7394f32cf7e0f9'), 'name': 'Betty', 'address': 'Green Grass 1'}\n",
      "{'_id': ObjectId('653639cace7394f32cf7e0ff'), 'name': 'Chuck', 'address': 'Main Road 989'}\n",
      "{'_id': ObjectId('653639cace7394f32cf7e0f6'), 'name': 'Hannah', 'address': 'Mountain 21'}\n",
      "{'_id': ObjectId('653639cace7394f32cf7e0f7'), 'name': 'Michael', 'address': 'Valley 345'}\n",
      "{'_id': ObjectId('653639cace7394f32cf7e0fa'), 'name': 'Richard', 'address': 'Sky st 331'}\n",
      "{'_id': ObjectId('653639cace7394f32cf7e0f8'), 'name': 'Sandy', 'address': 'Ocean blvd 2'}\n",
      "{'_id': ObjectId('653639cace7394f32cf7e0fb'), 'name': 'Susan', 'address': 'One way 98'}\n",
      "{'_id': ObjectId('653639cace7394f32cf7e0fc'), 'name': 'Vicky', 'address': 'Yellow Garden 2'}\n",
      "{'_id': ObjectId('653639cace7394f32cf7e100'), 'name': 'Viola', 'address': 'Sideway 1633'}\n",
      "{'_id': ObjectId('653639cace7394f32cf7e0fe'), 'name': 'William', 'address': 'Central st 954'}\n",
      "{'_id': ObjectId('65363983ce7394f32cf7e0f4'), 'name': 'krish', 'class': 'data science masters', 'timing': 'flexi'}\n",
      "{'_id': ObjectId('65363569ce7394f32cf7e0f3'), 'name': 'sudh', 'class': 'data science masters', 'timing': 'flexi'}\n"
     ]
    }
   ],
   "source": [
    "for i in new_column.aggregate(\n",
    "   [\n",
    "     { '$sort' : { 'name' : 1 } }\n",
    "   ]\n",
    "):\n",
    "    print(i)"
   ]
  },
  {
   "cell_type": "markdown",
   "id": "7742a9ad",
   "metadata": {},
   "source": [
    "Q7. Explain why delete_one(), delete_many(), and drop() is used."
   ]
  },
  {
   "cell_type": "code",
   "execution_count": 81,
   "id": "aad0bac5",
   "metadata": {},
   "outputs": [
    {
     "data": {
      "text/plain": [
       "<pymongo.results.DeleteResult at 0x2581ecac850>"
      ]
     },
     "execution_count": 81,
     "metadata": {},
     "output_type": "execute_result"
    }
   ],
   "source": [
    "new_column.delete_one({'name': 'Amy'})"
   ]
  },
  {
   "cell_type": "code",
   "execution_count": 83,
   "id": "e61769d3",
   "metadata": {},
   "outputs": [
    {
     "data": {
      "text/plain": [
       "<pymongo.results.DeleteResult at 0x2581ecaea70>"
      ]
     },
     "execution_count": 83,
     "metadata": {},
     "output_type": "execute_result"
    }
   ],
   "source": [
    "new_column.delete_many({'class':{'$eq' :'data science masters'}})\n"
   ]
  },
  {
   "cell_type": "code",
   "execution_count": 84,
   "id": "d3b1a199",
   "metadata": {},
   "outputs": [
    {
     "name": "stdout",
     "output_type": "stream",
     "text": [
      "{'_id': ObjectId('653639cace7394f32cf7e0fd'), 'name': 'Ben', 'address': 'Park Lane 38'}\n",
      "{'_id': ObjectId('653639cace7394f32cf7e0f9'), 'name': 'Betty', 'address': 'Green Grass 1'}\n",
      "{'_id': ObjectId('653639cace7394f32cf7e0ff'), 'name': 'Chuck', 'address': 'Main Road 989'}\n",
      "{'_id': ObjectId('653639cace7394f32cf7e0f6'), 'name': 'Hannah', 'address': 'Mountain 21'}\n",
      "{'_id': ObjectId('653639cace7394f32cf7e0f7'), 'name': 'Michael', 'address': 'Valley 345'}\n",
      "{'_id': ObjectId('653639cace7394f32cf7e0fa'), 'name': 'Richard', 'address': 'Sky st 331'}\n",
      "{'_id': ObjectId('653639cace7394f32cf7e0f8'), 'name': 'Sandy', 'address': 'Ocean blvd 2'}\n",
      "{'_id': ObjectId('653639cace7394f32cf7e0fb'), 'name': 'Susan', 'address': 'One way 98'}\n",
      "{'_id': ObjectId('653639cace7394f32cf7e0fc'), 'name': 'Vicky', 'address': 'Yellow Garden 2'}\n",
      "{'_id': ObjectId('653639cace7394f32cf7e100'), 'name': 'Viola', 'address': 'Sideway 1633'}\n",
      "{'_id': ObjectId('653639cace7394f32cf7e0fe'), 'name': 'William', 'address': 'Central st 954'}\n"
     ]
    }
   ],
   "source": [
    "for i in new_column.aggregate(\n",
    "   [\n",
    "     { '$sort' : { 'name' : 1 } }\n",
    "   ]\n",
    "):\n",
    "    print(i)"
   ]
  },
  {
   "cell_type": "code",
   "execution_count": 85,
   "id": "fd5858b5",
   "metadata": {},
   "outputs": [],
   "source": [
    "new_column.drop()"
   ]
  },
  {
   "cell_type": "code",
   "execution_count": 86,
   "id": "53cde18e",
   "metadata": {},
   "outputs": [],
   "source": [
    "for i in new_column.aggregate(\n",
    "   [\n",
    "     { '$sort' : { 'name' : 1 } }\n",
    "   ]\n",
    "):\n",
    "    print(i)"
   ]
  },
  {
   "cell_type": "code",
   "execution_count": null,
   "id": "bf42c0d8",
   "metadata": {},
   "outputs": [],
   "source": []
  }
 ],
 "metadata": {
  "kernelspec": {
   "display_name": "Python 3 (ipykernel)",
   "language": "python",
   "name": "python3"
  },
  "language_info": {
   "codemirror_mode": {
    "name": "ipython",
    "version": 3
   },
   "file_extension": ".py",
   "mimetype": "text/x-python",
   "name": "python",
   "nbconvert_exporter": "python",
   "pygments_lexer": "ipython3",
   "version": "3.11.5"
  }
 },
 "nbformat": 4,
 "nbformat_minor": 5
}
